{
 "cells": [
  {
   "cell_type": "code",
   "execution_count": null,
   "metadata": {},
   "outputs": [],
   "source": [
    "#######################\n",
    "# 提取样本 #\n",
    "#######################\n",
    "# 首先根据风速，均速大于20的点全部认为安全概率为0.这样的FN小于0.4%，且几乎分布在危险风速边缘，故忽略其影响"
   ]
  },
  {
   "cell_type": "code",
   "execution_count": 8,
   "metadata": {},
   "outputs": [
    {
     "name": "stderr",
     "output_type": "stream",
     "text": [
      "100%|██████████| 18/18 [00:17<00:00,  1.04it/s]\n",
      "100%|██████████| 18/18 [00:17<00:00,  1.02it/s]\n",
      "100%|██████████| 18/18 [00:21<00:00,  1.18s/it]\n",
      "100%|██████████| 18/18 [00:15<00:00,  1.14it/s]\n",
      "100%|██████████| 18/18 [00:17<00:00,  1.05it/s]\n"
     ]
    }
   ],
   "source": [
    "###########################################\n",
    "# 探索绝对正确的点和绝对错误的点 #\n",
    "###########################################\n",
    "import pickle\n",
    "from tqdm import tqdm\n",
    "x_max = 548\n",
    "y_max = 421\n",
    "file_weather = open('weather_train_average.pkl', 'rb')\n",
    "weather_input = pickle.load(file_weather)\n",
    "file_weather2 = open('weather_train_label_1_5.pkl', 'rb')\n",
    "weather_output = pickle.load(file_weather2)\n",
    "negative = set()\n",
    "sample ={\n",
    "    '1':[],\n",
    "    '2':[],\n",
    "    '3':[],\n",
    "    '4':[],\n",
    "    '5':[]\n",
    "}\n",
    "\n",
    "for d in range(1,6):\n",
    "    for h in tqdm(range(3,21)):\n",
    "        for x in range(x_max):\n",
    "            for y in range(y_max):\n",
    "                # FP\n",
    "                if weather_output[str(d)][str(h)][0,x,y]>=15 or weather_output[str(d)][str(h)][1,x,y]>=4:\n",
    "                    negative.add((d,h,x,y))\n",
    "                else:\n",
    "                    # 根据风速和雨水情况分层抽样\n",
    "                    tianqi = weather_input[str(d)][str(h)][0,x,y]\n",
    "                    rainfall = weather_input[str(d)][str(h)][1,x,y]\n",
    "                    if tianqi>=15 or rainfall>=4:\n",
    "                        sample['1'].append((d,h,x,y))\n",
    "                    elif tianqi>=13:\n",
    "                        sample['2'].append((d,h,x,y))\n",
    "                    elif tianqi>=11:\n",
    "                        sample['3'].append((d,h,x,y))\n",
    "                    elif tianqi>=9:\n",
    "                        sample['4'].append((d,h,x,y))\n",
    "                    else:\n",
    "                        sample['5'].append((d,h,x,y))\n"
   ]
  },
  {
   "cell_type": "code",
   "execution_count": 9,
   "metadata": {},
   "outputs": [
    {
     "name": "stdout",
     "output_type": "stream",
     "text": [
      "1900547\n",
      "1900547\n"
     ]
    }
   ],
   "source": [
    "# 分层抽样\n",
    "import random\n",
    "ratio = [0.98,0.85,0.75,0.7]\n",
    "for i in range(1,5):\n",
    "    sample[str(i)] = random.sample(sample[str(i)],int(len(sample[str(i)])*ratio[i-1]))\n",
    "remain = len(negative)-sum([len(sample[str(i)]) for i in range(1,5)])\n",
    "print(remain)\n",
    "sample['5'] = random.sample(sample['5'],remain)\n",
    "print(remain)"
   ]
  },
  {
   "cell_type": "code",
   "execution_count": 10,
   "metadata": {},
   "outputs": [
    {
     "name": "stdout",
     "output_type": "stream",
     "text": [
      "524734\n",
      "1986563\n",
      "2170292\n",
      "1559450\n",
      "1900547\n"
     ]
    }
   ],
   "source": [
    "for i in range(1,6):\n",
    "    print(len(sample[str(i)]))"
   ]
  },
  {
   "cell_type": "code",
   "execution_count": 11,
   "metadata": {},
   "outputs": [],
   "source": [
    "positive = set()\n",
    "for i in range(1,6):\n",
    "    positive = positive|set(sample[str(i)])\n",
    "sample = positive|negative\n",
    "##################################################### 样本集合构建完毕\n",
    "import pickle\n",
    "f1 = open('sample.pkl', 'wb')\n",
    "pickle.dump(sample,f1)\n",
    "f1.close()"
   ]
  },
  {
   "cell_type": "code",
   "execution_count": 5,
   "metadata": {},
   "outputs": [
    {
     "name": "stderr",
     "output_type": "stream",
     "text": [
      "100%|██████████| 18/18 [00:02<00:00,  7.56it/s]\n",
      "100%|██████████| 18/18 [00:02<00:00,  7.46it/s]\n",
      "100%|██████████| 18/18 [00:02<00:00,  8.71it/s]\n",
      "100%|██████████| 18/18 [00:02<00:00,  7.26it/s]\n",
      "100%|██████████| 18/18 [00:02<00:00,  7.59it/s]\n"
     ]
    }
   ],
   "source": [
    "# 获取采样目录\n",
    "import pickle\n",
    "from tqdm import tqdm\n",
    "import numpy as np\n",
    "x_max = 548\n",
    "y_max = 421\n",
    "sample_set = pickle.load(open('sample.pkl','rb'))\n",
    "i = 0\n",
    "sample_index = []\n",
    "for d in range(1,6):\n",
    "    for h in tqdm(range(3,21)):\n",
    "        for x in range(x_max):\n",
    "            for y in range(y_max):\n",
    "                if (d,h,x,y) in sample_set:\n",
    "                    sample_index.append(i)\n",
    "                else:\n",
    "                    pass\n",
    "                i+=1\n",
    "np.save('sample_index.npy',np.array(sample_index))"
   ]
  },
  {
   "cell_type": "code",
   "execution_count": 7,
   "metadata": {},
   "outputs": [
    {
     "data": {
      "text/plain": [
       "16283172"
      ]
     },
     "execution_count": 7,
     "metadata": {},
     "output_type": "execute_result"
    }
   ],
   "source": [
    "len(sample_index)"
   ]
  },
  {
   "cell_type": "code",
   "execution_count": null,
   "metadata": {},
   "outputs": [],
   "source": [
    "#######################\n",
    "# 风团分割 #\n",
    "#######################\n",
    "# 没错我是天气预报员"
   ]
  },
  {
   "cell_type": "code",
   "execution_count": 1,
   "metadata": {},
   "outputs": [],
   "source": [
    "import pickle\n",
    "import numpy as np\n",
    "import sys\n",
    "from tqdm import tqdm\n",
    "output_weather = open('weather_output.pkl', 'rb')\n",
    "output_weather = pickle.load(output_weather)\n",
    "sys.setrecursionlimit(1500)\n"
   ]
  },
  {
   "cell_type": "code",
   "execution_count": 2,
   "metadata": {},
   "outputs": [],
   "source": [
    "def find_wind_eye(data,x,y,d):\n",
    "    #print(x,y)\n",
    "    x_max = 548\n",
    "    y_max = 421\n",
    "    width = int((d-1)/2)\n",
    "    x_up = max(0,x-width)\n",
    "    x_down = min(x_max,x+width+1)\n",
    "    y_left = max(0,y-width)\n",
    "    y_right = min(y_max,y+width+1)\n",
    "    block = data[x_up:x_down,y_left:y_right]\n",
    "    index = np.argmax(block)\n",
    "    #print(index)\n",
    "    #print(y_right-y_left)\n",
    "    x_s = index//(y_right-y_left)+x_up\n",
    "    y_s = index%(y_right-y_left)+y_left\n",
    "\n",
    "    #print(x_s,y_s,np.max(block),block)\n",
    "    if x_s == x and y_s == y:\n",
    "        return (x_s,y_s)\n",
    "    else:\n",
    "\n",
    "        return find_wind_eye(data,x_s,y_s,d)"
   ]
  },
  {
   "cell_type": "code",
   "execution_count": 3,
   "metadata": {},
   "outputs": [
    {
     "name": "stderr",
     "output_type": "stream",
     "text": [
      "100%|██████████| 548/548 [00:03<00:00, 159.97it/s]\n"
     ]
    }
   ],
   "source": [
    "# 风速最大的地方成为凤眼\n",
    "# 参数\n",
    "# 风团最小直径\n",
    "d = 9\n",
    "# 团队形成条件，风速大于10，或者最大差大于3\n",
    "low = 10\n",
    "delta = 5\n",
    "# 风团集合\n",
    "x_max = 548\n",
    "y_max = 421\n",
    "wind = {}\n",
    "data = output_weather['5']['5']\n",
    "for x in tqdm(range(x_max)):\n",
    "    for y in range(y_max):\n",
    "        if data[x,y]<8:\n",
    "            pass\n",
    "        else:\n",
    "            eye = find_wind_eye(data,x,y,d)\n",
    "            if eye in wind.keys():\n",
    "                wind[eye].append((x,y))\n",
    "            else:\n",
    "                wind[eye] = []\n",
    "                wind[eye].append((x,y))"
   ]
  },
  {
   "cell_type": "code",
   "execution_count": 14,
   "metadata": {},
   "outputs": [
    {
     "data": {
      "text/plain": [
       "309"
      ]
     },
     "execution_count": 14,
     "metadata": {},
     "output_type": "execute_result"
    }
   ],
   "source": [
    "len(wind)"
   ]
  },
  {
   "cell_type": "code",
   "execution_count": 4,
   "metadata": {},
   "outputs": [
    {
     "data": {
      "image/png": "[encoded data removed]",
      "text/plain": [
       "<matplotlib.figure.Figure at 0x7f86d1b06208>"
      ]
     },
     "metadata": {},
     "output_type": "display_data"
    }
   ],
   "source": [
    "import copy\n",
    "import matplotlib.pyplot as plt\n",
    "fig = plt.figure()\n",
    "testdata = copy.deepcopy(data)\n",
    "testdata[testdata<8] = 0\n",
    "n = len(wind)\n",
    "i = 1\n",
    "for key,values in wind.items():\n",
    "    for sth in values:\n",
    "        testdata[sth[0],sth[1]] = i\n",
    "    i += 1\n",
    "im = plt.imshow(testdata)\n",
    "plt.colorbar(im, shrink=1) \n",
    "plt.show()\n"
   ]
  },
  {
   "cell_type": "code",
   "execution_count": 105,
   "metadata": {},
   "outputs": [
    {
     "data": {
      "image/png": "[encoded data removed]",
      "text/plain": [
       "<matplotlib.figure.Figure at 0x7f2028e3ab00>"
      ]
     },
     "metadata": {},
     "output_type": "display_data"
    }
   ],
   "source": [
    "import copy\n",
    "import matplotlib.pyplot as plt\n",
    "fig = plt.figure()\n",
    "testdata = copy.deepcopy(data)\n",
    "testdata[testdata<8] = 0\n",
    "n = len(wind)\n",
    "i = 1\n",
    "for key,values in wind.items():\n",
    "    for sth in values:\n",
    "        testdata[sth[0],sth[1]] = i\n",
    "    i += 1\n",
    "im = plt.imshow(testdata)\n",
    "plt.colorbar(im, shrink=1) \n",
    "plt.show()\n"
   ]
  },
  {
   "cell_type": "code",
   "execution_count": null,
   "metadata": {},
   "outputs": [],
   "source": [
    "# 开始建立所有样本的周边特征 ######################\n",
    "# important\n",
    "windeye= []\n",
    "# 风眼离我的距离，风眼相对我的速度增量"
   ]
  },
  {
   "cell_type": "code",
   "execution_count": null,
   "metadata": {},
   "outputs": [],
   "source": [
    "# 设计卷积寻找特征\n",
    "# 1 八个方向的风速波浪\n",
    "# 2 中间高周围小，中间小周围高，中间小两边大，中间大两边小"
   ]
  },
  {
   "cell_type": "code",
   "execution_count": null,
   "metadata": {},
   "outputs": [],
   "source": [
    "# 设置边缘信息特征\n",
    "# 最近边缘信息，周围边缘点个数"
   ]
  },
  {
   "cell_type": "code",
   "execution_count": null,
   "metadata": {},
   "outputs": [],
   "source": [
    "# 风速变化特征\n",
    "# 周围风速情况，历史风速情况"
   ]
  },
  {
   "cell_type": "code",
   "execution_count": null,
   "metadata": {},
   "outputs": [],
   "source": [
    "# 风速移动情况\n",
    "# 卷积"
   ]
  }
 ],
 "metadata": {
  "kernelspec": {
   "display_name": "Python 3",
   "language": "python",
   "name": "python3"
  },
  "language_info": {
   "codemirror_mode": {
    "name": "ipython",
    "version": 3
   },
   "file_extension": ".py",
   "mimetype": "text/x-python",
   "name": "python",
   "nbconvert_exporter": "python",
   "pygments_lexer": "ipython3",
   "version": "3.5.2"
  }
 },
 "nbformat": 4,
 "nbformat_minor": 2
}
