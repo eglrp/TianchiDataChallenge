{
 "cells": [
  {
   "cell_type": "code",
   "execution_count": 3,
   "metadata": {},
   "outputs": [],
   "source": [
    "x_max = 548\n",
    "y_max = 421\n",
    "weather = {}\n",
    "for mod in range(1,11):\n",
    "    weather_day = {}\n",
    "    for n in range(6,11):\n",
    "        weather_hour = {}\n",
    "        for h in range(3, 21):\n",
    "            wind_color = np.zeros([x_max, y_max])\n",
    "            day_n= real_weather.loc[(real_weather.date_id==n)&(real_weather.hour==h)&(real_weather.model==mod)]\n",
    "            for index, item in day_n.iterrows():\n",
    "                wind_color[int(item['xid'])-1][int(item['yid'])-1] = item['wind']\n",
    "                weather_hour[str(h)] = wind_color \n",
    "        weather_day[str(n)] = weather_hour\n",
    "    weather[str(mod)] = weather_day\n",
    "import pickle\n",
    "f1 = open('weather_map_all.pkl', 'wb')\n",
    "pickle.dump(weather,f1)\n",
    "f1.close()"
   ]
  },
  {
   "cell_type": "code",
   "execution_count": 46,
   "metadata": {},
   "outputs": [],
   "source": [
    "import pickle\n",
    "output_weather = open('layer_1_output_prob.pkl', 'rb')\n",
    "output_weather = pickle.load(output_weather)"
   ]
  },
  {
   "cell_type": "code",
   "execution_count": null,
   "metadata": {},
   "outputs": [],
   "source": []
  },
  {
   "cell_type": "code",
   "execution_count": 47,
   "metadata": {},
   "outputs": [],
   "source": [
    "import numpy as np\n",
    "import pickle\n",
    "gy = np.load('02_07p.npy')"
   ]
  },
  {
   "cell_type": "code",
   "execution_count": null,
   "metadata": {},
   "outputs": [],
   "source": []
  },
  {
   "cell_type": "code",
   "execution_count": 48,
   "metadata": {},
   "outputs": [],
   "source": [
    "import numpy as np\n",
    "import pickle\n",
    "x_max = 548\n",
    "y_max = 421\n",
    "for d in range(1,6):\n",
    "    for h in range(3,21):\n",
    "        for x in range(x_max):\n",
    "            for y in range(y_max):\n",
    "                output_weather[str(d)][str(h)][x][y] = gy[d-1,h-3,x,y]\n",
    "f1 = open('weather_guanyang.pkl', 'wb')\n",
    "pickle.dump(output_weather,f1)\n",
    "f1.close()"
   ]
  },
  {
   "cell_type": "code",
   "execution_count": 9,
   "metadata": {},
   "outputs": [
    {
     "data": {
      "text/plain": [
       "array([[ 0.9999783 ,  0.99998784,  0.9999944 , ...,  0.99416566,\n",
       "         0.99848276,  0.99954826],\n",
       "       [ 0.99999475,  0.99999714,  0.99999905, ...,  0.99470371,\n",
       "         0.99546295,  0.99964809],\n",
       "       [ 0.99951661,  0.99993682,  0.99998891, ...,  0.99872166,\n",
       "         0.99864703,  0.99953532],\n",
       "       ..., \n",
       "       [ 0.74019593,  0.18958341,  0.31172663, ...,  0.99999917,\n",
       "         0.99999356,  0.99999928],\n",
       "       [ 0.60786682,  0.27407455,  0.23487027, ...,  0.99999928,\n",
       "         0.9999994 ,  0.99999917],\n",
       "       [ 0.83216703,  0.49842143,  0.5133006 , ...,  0.9999975 ,\n",
       "         0.99999511,  0.99999905]])"
      ]
     },
     "execution_count": 9,
     "metadata": {},
     "output_type": "execute_result"
    }
   ],
   "source": [
    "output_weather[str(d)][str(h)]"
   ]
  },
  {
   "cell_type": "code",
   "execution_count": null,
   "metadata": {},
   "outputs": [],
   "source": []
  },
  {
   "cell_type": "code",
   "execution_count": 7,
   "metadata": {},
   "outputs": [
    {
     "data": {
      "text/html": [
       "<div>\n",
       "<style>\n",
       "    .dataframe thead tr:only-child th {\n",
       "        text-align: right;\n",
       "    }\n",
       "\n",
       "    .dataframe thead th {\n",
       "        text-align: left;\n",
       "    }\n",
       "\n",
       "    .dataframe tbody tr th {\n",
       "        vertical-align: top;\n",
       "    }\n",
       "</style>\n",
       "<table border=\"1\" class=\"dataframe\">\n",
       "  <thead>\n",
       "    <tr style=\"text-align: right;\">\n",
       "      <th></th>\n",
       "      <th>xid</th>\n",
       "      <th>yid</th>\n",
       "      <th>date_id</th>\n",
       "      <th>hour</th>\n",
       "      <th>model</th>\n",
       "      <th>wind</th>\n",
       "      <th>rainfall</th>\n",
       "    </tr>\n",
       "  </thead>\n",
       "  <tbody>\n",
       "  </tbody>\n",
       "</table>\n",
       "</div>"
      ],
      "text/plain": [
       "Empty DataFrame\n",
       "Columns: [xid, yid, date_id, hour, model, wind, rainfall]\n",
       "Index: []"
      ]
     },
     "execution_count": 7,
     "metadata": {},
     "output_type": "execute_result"
    }
   ],
   "source": [
    "real_weather[real_weather['rainfall'].isnull()]"
   ]
  },
  {
   "cell_type": "code",
   "execution_count": 3,
   "metadata": {},
   "outputs": [
    {
     "name": "stdout",
     "output_type": "stream",
     "text": [
      "   xid  yid  date_id  hour  model  wind  rainfall\n",
      "0    1    1        6     3      1  5.87         0\n",
      "1    1    1        6     3      2  2.91         0\n",
      "2    1    1        6     3      3  7.51         0\n",
      "3    1    1        6     3      4  6.92         0\n",
      "4    1    1        6     3      5  4.37         0\n"
     ]
    }
   ],
   "source": [
    "import pandas as pd\n",
    "real_weather_name = 'ForecastDataforTesting_201802.csv'\n",
    "\n",
    "real_weather = pd.read_csv(real_weather_name,nrows=5)\n",
    "print(real_weather)"
   ]
  },
  {
   "cell_type": "code",
   "execution_count": 1,
   "metadata": {},
   "outputs": [
    {
     "name": "stdout",
     "output_type": "stream",
     "text": [
      "                xid          yid      date_id         hour        model  \\\n",
      "count  2.076372e+08  207637200.0  207637200.0  207637200.0  207637200.0   \n",
      "mean            NaN          NaN          NaN          NaN          NaN   \n",
      "std             NaN          NaN          0.0          0.0          0.0   \n",
      "min    1.000000e+00          1.0          6.0          3.0          1.0   \n",
      "25%    1.377500e+02        106.0          7.0          7.0          3.0   \n",
      "50%    2.745000e+02        211.0          8.0         11.5          5.5   \n",
      "75%    4.112500e+02        316.0          9.0         16.0          8.0   \n",
      "max    5.480000e+02        421.0         10.0         20.0         10.0   \n",
      "\n",
      "               wind      rainfall  \n",
      "count  2.076372e+08  2.076372e+08  \n",
      "mean            NaN           NaN  \n",
      "std    0.000000e+00           NaN  \n",
      "min    0.000000e+00  0.000000e+00  \n",
      "25%    7.738281e+00  0.000000e+00  \n",
      "50%    1.070312e+01  1.000214e-02  \n",
      "75%    1.420312e+01  7.998047e-01  \n",
      "max    3.840625e+01  2.680000e+02  \n",
      "    xid  yid  date_id  hour  model      wind  rainfall\n",
      "0   1.0  1.0      6.0   3.0    1.0  5.871094       0.0\n",
      "1   1.0  1.0      6.0   3.0    2.0  2.910156       0.0\n",
      "2   1.0  1.0      6.0   3.0    3.0  7.511719       0.0\n",
      "3   1.0  1.0      6.0   3.0    4.0  6.921875       0.0\n",
      "4   1.0  1.0      6.0   3.0    5.0  4.371094       0.0\n",
      "5   1.0  1.0      6.0   3.0    6.0  7.910156       0.0\n",
      "6   1.0  1.0      6.0   3.0    7.0  5.640625       0.0\n",
      "7   1.0  1.0      6.0   3.0    8.0  3.970703       0.0\n",
      "8   1.0  1.0      6.0   3.0    9.0  6.699219       0.0\n",
      "9   1.0  1.0      6.0   3.0   10.0  5.140625       0.0\n",
      "10  1.0  2.0      6.0   3.0    1.0  6.121094       0.0\n",
      "11  1.0  2.0      6.0   3.0    2.0  3.070312       0.0\n",
      "12  1.0  2.0      6.0   3.0    3.0  7.660156       0.0\n",
      "13  1.0  2.0      6.0   3.0    4.0  7.281250       0.0\n",
      "14  1.0  2.0      6.0   3.0    5.0  4.750000       0.0\n",
      "15  1.0  2.0      6.0   3.0    6.0  7.949219       0.0\n",
      "16  1.0  2.0      6.0   3.0    7.0  5.058594       0.0\n",
      "17  1.0  2.0      6.0   3.0    8.0  4.019531       0.0\n",
      "18  1.0  2.0      6.0   3.0    9.0  6.789062       0.0\n",
      "19  1.0  2.0      6.0   3.0   10.0  5.628906       0.0\n",
      "20  1.0  3.0      6.0   3.0    1.0  6.250000       0.0\n",
      "21  1.0  3.0      6.0   3.0    2.0  3.359375       0.0\n",
      "22  1.0  3.0      6.0   3.0    3.0  7.710938       0.0\n",
      "23  1.0  3.0      6.0   3.0    4.0  7.429688       0.0\n",
      "24  1.0  3.0      6.0   3.0    5.0  5.121094       0.0\n",
      "25  1.0  3.0      6.0   3.0    6.0  7.949219       0.0\n",
      "26  1.0  3.0      6.0   3.0    7.0  4.460938       0.0\n",
      "27  1.0  3.0      6.0   3.0    8.0  4.031250       0.0\n",
      "28  1.0  3.0      6.0   3.0    9.0  6.789062       0.0\n",
      "29  1.0  3.0      6.0   3.0   10.0  6.121094       0.0\n",
      "              xid         yid     date_id        hour       model        wind  \\\n",
      "count  900.000000  900.000000  900.000000  900.000000  900.000000  900.000000   \n",
      "mean          inf         inf    8.000000   11.500000    5.503906    9.851562   \n",
      "std      0.000000    0.000000    1.415039    5.191406    2.873047    2.609375   \n",
      "min    142.000000  328.000000    6.000000    3.000000    1.000000    1.000000   \n",
      "25%    142.000000  328.000000    7.000000    7.000000    3.000000    7.947266   \n",
      "50%    142.000000  328.000000    8.000000   11.500000    5.500000    9.847656   \n",
      "75%    142.000000  328.000000    9.000000   16.000000    8.000000   11.703125   \n",
      "max    142.000000  328.000000   10.000000   20.000000   10.000000   16.406250   \n",
      "\n",
      "         rainfall  \n",
      "count  900.000000  \n",
      "mean     0.138184  \n",
      "std      0.756836  \n",
      "min      0.000000  \n",
      "25%      0.000000  \n",
      "50%      0.000000  \n",
      "75%      0.000000  \n",
      "max      7.960938  \n",
      "207637200\n",
      "             xid    yid  date_id  hour  model       wind   rainfall\n",
      "0            1.0    1.0      6.0   3.0    1.0   5.871094   0.000000\n",
      "1            1.0    1.0      6.0   3.0    2.0   2.910156   0.000000\n",
      "2            1.0    1.0      6.0   3.0    3.0   7.511719   0.000000\n",
      "3            1.0    1.0      6.0   3.0    4.0   6.921875   0.000000\n",
      "4            1.0    1.0      6.0   3.0    5.0   4.371094   0.000000\n",
      "5            1.0    1.0      6.0   3.0    6.0   7.910156   0.000000\n",
      "6            1.0    1.0      6.0   3.0    7.0   5.640625   0.000000\n",
      "7            1.0    1.0      6.0   3.0    8.0   3.970703   0.000000\n",
      "8            1.0    1.0      6.0   3.0    9.0   6.699219   0.000000\n",
      "9            1.0    1.0      6.0   3.0   10.0   5.140625   0.000000\n",
      "10           1.0    2.0      6.0   3.0    1.0   6.121094   0.000000\n",
      "11           1.0    2.0      6.0   3.0    2.0   3.070312   0.000000\n",
      "12           1.0    2.0      6.0   3.0    3.0   7.660156   0.000000\n",
      "13           1.0    2.0      6.0   3.0    4.0   7.281250   0.000000\n",
      "14           1.0    2.0      6.0   3.0    5.0   4.750000   0.000000\n",
      "15           1.0    2.0      6.0   3.0    6.0   7.949219   0.000000\n",
      "16           1.0    2.0      6.0   3.0    7.0   5.058594   0.000000\n",
      "17           1.0    2.0      6.0   3.0    8.0   4.019531   0.000000\n",
      "18           1.0    2.0      6.0   3.0    9.0   6.789062   0.000000\n",
      "19           1.0    2.0      6.0   3.0   10.0   5.628906   0.000000\n",
      "20           1.0    3.0      6.0   3.0    1.0   6.250000   0.000000\n",
      "21           1.0    3.0      6.0   3.0    2.0   3.359375   0.000000\n",
      "22           1.0    3.0      6.0   3.0    3.0   7.710938   0.000000\n",
      "23           1.0    3.0      6.0   3.0    4.0   7.429688   0.000000\n",
      "24           1.0    3.0      6.0   3.0    5.0   5.121094   0.000000\n",
      "25           1.0    3.0      6.0   3.0    6.0   7.949219   0.000000\n",
      "26           1.0    3.0      6.0   3.0    7.0   4.460938   0.000000\n",
      "27           1.0    3.0      6.0   3.0    8.0   4.031250   0.000000\n",
      "28           1.0    3.0      6.0   3.0    9.0   6.789062   0.000000\n",
      "29           1.0    3.0      6.0   3.0   10.0   6.121094   0.000000\n",
      "...          ...    ...      ...   ...    ...        ...        ...\n",
      "207637170  548.0  419.0     10.0  20.0    1.0  10.500000  39.406250\n",
      "207637171  548.0  419.0     10.0  20.0    2.0  11.796875  52.500000\n",
      "207637172  548.0  419.0     10.0  20.0    3.0   6.828125  10.500000\n",
      "207637173  548.0  419.0     10.0  20.0    4.0   7.621094   5.230469\n",
      "207637174  548.0  419.0     10.0  20.0    5.0   9.726562  71.312500\n",
      "207637175  548.0  419.0     10.0  20.0    6.0  16.203125  28.296875\n",
      "207637176  548.0  419.0     10.0  20.0    7.0  11.398438  56.500000\n",
      "207637177  548.0  419.0     10.0  20.0    8.0   9.890625  42.406250\n",
      "207637178  548.0  419.0     10.0  20.0    9.0  12.898438  25.093750\n",
      "207637179  548.0  419.0     10.0  20.0   10.0   5.558594   7.351562\n",
      "207637180  548.0  420.0     10.0  20.0    1.0  10.296875  40.812500\n",
      "207637181  548.0  420.0     10.0  20.0    2.0  11.703125  51.500000\n",
      "207637182  548.0  420.0     10.0  20.0    3.0   6.871094   9.367188\n",
      "207637183  548.0  420.0     10.0  20.0    4.0   7.500000   5.250000\n",
      "207637184  548.0  420.0     10.0  20.0    5.0   9.726562  69.312500\n",
      "207637185  548.0  420.0     10.0  20.0    6.0  16.593750  28.093750\n",
      "207637186  548.0  420.0     10.0  20.0    7.0  11.101562  59.093750\n",
      "207637187  548.0  420.0     10.0  20.0    8.0   9.921875  42.406250\n",
      "207637188  548.0  420.0     10.0  20.0    9.0  13.000000  24.296875\n",
      "207637189  548.0  420.0     10.0  20.0   10.0   5.441406   7.699219\n",
      "207637190  548.0  421.0     10.0  20.0    1.0  10.101562  42.500000\n",
      "207637191  548.0  421.0     10.0  20.0    2.0  11.601562  49.812500\n",
      "207637192  548.0  421.0     10.0  20.0    3.0   6.640625   9.140625\n",
      "207637193  548.0  421.0     10.0  20.0    4.0   7.390625   5.539062\n",
      "207637194  548.0  421.0     10.0  20.0    5.0   9.703125  67.687500\n",
      "207637195  548.0  421.0     10.0  20.0    6.0  16.703125  27.593750\n",
      "207637196  548.0  421.0     10.0  20.0    7.0  10.898438  61.000000\n",
      "207637197  548.0  421.0     10.0  20.0    8.0  10.101562  42.187500\n",
      "207637198  548.0  421.0     10.0  20.0    9.0  13.000000  23.500000\n",
      "207637199  548.0  421.0     10.0  20.0   10.0   5.320312   7.980469\n",
      "\n",
      "[207637200 rows x 7 columns]\n"
     ]
    }
   ],
   "source": []
  },
  {
   "cell_type": "code",
   "execution_count": 5,
   "metadata": {},
   "outputs": [
    {
     "name": "stderr",
     "output_type": "stream",
     "text": [
      "100%|██████████| 10/10 [00:00<00:00, 90.75it/s]\n",
      "207637200it [5:54:34, 9759.93it/s]\n"
     ]
    }
   ],
   "source": []
  },
  {
   "cell_type": "code",
   "execution_count": null,
   "metadata": {},
   "outputs": [],
   "source": []
  },
  {
   "cell_type": "code",
   "execution_count": null,
   "metadata": {},
   "outputs": [],
   "source": []
  },
  {
   "cell_type": "code",
   "execution_count": 6,
   "metadata": {},
   "outputs": [],
   "source": []
  },
  {
   "cell_type": "code",
   "execution_count": null,
   "metadata": {},
   "outputs": [],
   "source": []
  },
  {
   "cell_type": "code",
   "execution_count": null,
   "metadata": {},
   "outputs": [],
   "source": []
  },
  {
   "cell_type": "code",
   "execution_count": null,
   "metadata": {},
   "outputs": [],
   "source": []
  },
  {
   "cell_type": "code",
   "execution_count": null,
   "metadata": {},
   "outputs": [],
   "source": []
  },
  {
   "cell_type": "code",
   "execution_count": null,
   "metadata": {},
   "outputs": [],
   "source": []
  },
  {
   "cell_type": "code",
   "execution_count": null,
   "metadata": {},
   "outputs": [],
   "source": [
    "import pickle\n",
    "import numpy as np\n",
    "file_weather = open('weather_output.pkl', 'rb')\n",
    "weather = pickle.load(file_weather)\n",
    "from IPython.display import HTML\n",
    "fig = plt.figure()\n",
    "data = np.random.random((255, 255))\n",
    "n = 5\n",
    "im = plt.imshow(weather[str(n)]['3'])\n",
    "plt.colorbar(im, shrink=1) \n",
    "# animation function.  This is called sequentially\n",
    "def animate(i):\n",
    "    data = weather[str(n)][str(i+3)]\n",
    "    im.set_array(data)\n",
    "    return [im]\n",
    "\n",
    "anim = animation.FuncAnimation(fig, animate, frames=17, interval=300, blit=True)\n",
    "HTML(anim.to_html5_video())\n",
    "#plt.show()\n",
    "\n",
    "#TODO:绘制天气变化图"
   ]
  },
  {
   "cell_type": "code",
   "execution_count": 2,
   "metadata": {},
   "outputs": [],
   "source": [
    "# 均值法测出一版天气数据\n",
    "import pickle\n",
    "import numpy as np\n",
    "file_weather = open('weather_map_all.pkl', 'rb')\n",
    "weather_map_all = pickle.load(file_weather)\n",
    "weather_map_average = {}\n",
    "x_max = 548\n",
    "y_max = 421\n",
    "for date in range(6,11):\n",
    "    weather_map_date = {}\n",
    "    for h in range(3,21):\n",
    "        weather_matrix = np.zeros([x_max, y_max])\n",
    "        for i in range(1,11):\n",
    "            weather_matrix = weather_matrix + weather_map_all[str(i)][str(date)][str(h)]\n",
    "        weather_matrix = weather_matrix/10\n",
    "        weather_map_date[str(h)] = weather_matrix\n",
    "    weather_map_average[str(date)] = weather_map_date\n",
    "\n",
    "import pickle\n",
    "f1 = open('weather_average.pkl', 'wb')\n",
    "pickle.dump(weather_map_average,f1)\n",
    "f1.close()"
   ]
  },
  {
   "cell_type": "code",
   "execution_count": 6,
   "metadata": {},
   "outputs": [
    {
     "data": {
      "text/plain": [
       "array([[  9.522,   9.638,   9.726, ...,  11.439,  11.412,  11.201],\n",
       "       [  9.524,   9.612,   9.669, ...,  11.362,  11.196,  10.917],\n",
       "       [  9.536,   9.634,   9.669, ...,  11.182,  10.853,  10.716],\n",
       "       ..., \n",
       "       [ 19.44 ,  19.44 ,  19.46 , ...,   9.393,   9.312,   9.249],\n",
       "       [ 19.35 ,  19.37 ,  19.37 , ...,   9.452,   9.407,   9.35 ],\n",
       "       [ 19.32 ,  19.32 ,  19.33 , ...,   9.537,   9.477,   9.405]])"
      ]
     },
     "execution_count": 6,
     "metadata": {},
     "output_type": "execute_result"
    }
   ],
   "source": [
    "weather_map_average['6']['3']"
   ]
  },
  {
   "cell_type": "code",
   "execution_count": 40,
   "metadata": {},
   "outputs": [
    {
     "name": "stderr",
     "output_type": "stream",
     "text": [
      "100%|██████████| 5/5 [00:00<00:00,  6.00it/s]\n"
     ]
    }
   ],
   "source": [
    "# 均值法测出一版测试的天气数据\n",
    "import pickle\n",
    "import numpy as np\n",
    "from tqdm import tqdm\n",
    "file_weather = open('weather_test_6_10.pkl', 'rb')\n",
    "weather_map_all = pickle.load(file_weather)\n",
    "weather_map_average = {}\n",
    "x_max = 548\n",
    "y_max = 421\n",
    "for date in tqdm(range(6,11)):\n",
    "    weather_map_date = {}\n",
    "    for h in range(3,21):\n",
    "        weather_matrix = np.zeros([x_max, y_max])\n",
    "        for i in range(1,11):\n",
    "            weather_matrix = weather_matrix + weather_map_all[str(i)][str(date)][str(h)][1]\n",
    "        weather_matrix = weather_matrix/10\n",
    "        weather_map_date[str(h)] = np.array(weather_matrix,dtype=np.float16)\n",
    "    weather_map_average[str(date)] = weather_map_date\n",
    "\n",
    "import pickle\n",
    "f1 = open('weather_test_rainfall_average.pkl', 'wb')\n",
    "pickle.dump(weather_map_average,f1)\n",
    "f1.close()"
   ]
  },
  {
   "cell_type": "code",
   "execution_count": 18,
   "metadata": {},
   "outputs": [
    {
     "name": "stdout",
     "output_type": "stream",
     "text": [
      "[[  5.9296875    6.           5.828125   ...,   7.5          7.37109375\n",
      "    7.25      ]\n",
      " [  5.828125     5.98046875   5.859375   ...,   7.5          7.37109375\n",
      "    7.37890625]\n",
      " [  5.44921875   5.55078125   5.69921875 ...,   7.5          7.62890625\n",
      "    7.76171875]\n",
      " ..., \n",
      " [ 12.8984375   13.          13.1015625  ...,  14.5         14.296875\n",
      "   14.296875  ]\n",
      " [ 13.1015625   13.203125    13.203125   ...,  14.5         14.296875\n",
      "   14.203125  ]\n",
      " [ 13.3984375   13.296875    13.296875   ...,  14.5         14.296875\n",
      "   14.203125  ]]\n",
      "[[  5.859375     5.859375     5.98046875 ...,   5.51171875   5.390625\n",
      "    5.51953125]\n",
      " [  5.8203125    5.87109375   5.921875   ...,   5.37890625   5.37890625\n",
      "    5.62890625]\n",
      " [  6.1015625    5.94140625   5.94140625 ...,   5.26171875   5.37890625\n",
      "    5.75      ]\n",
      " ..., \n",
      " [ 16.59375     16.5         16.296875   ...,   9.1171875    9.25\n",
      "    9.3828125 ]\n",
      " [ 16.296875    16.203125    16.09375    ...,   9.1171875    9.25\n",
      "    9.2578125 ]\n",
      " [ 16.203125    16.09375     15.8984375  ...,   9.1171875    9.1328125\n",
      "    9.2578125 ]]\n"
     ]
    }
   ],
   "source": [
    "print(weather_map_all[str(1)][str(date)][str(h)][0])\n",
    "print(weather_map_all[str(2)][str(date)][str(h)][0])"
   ]
  },
  {
   "cell_type": "code",
   "execution_count": null,
   "metadata": {},
   "outputs": [],
   "source": []
  },
  {
   "cell_type": "code",
   "execution_count": 6,
   "metadata": {},
   "outputs": [
    {
     "name": "stdout",
     "output_type": "stream",
     "text": [
      "正样本准确率 0.9567488318976379\n",
      "负样本准确率 0.8574879915578776\n"
     ]
    }
   ],
   "source": [
    "# 求测试数据的预测准确率\n",
    "file_weather = open('weather_average_input.pkl', 'rb')\n",
    "weather_input = pickle.load(file_weather)\n",
    "file_weather2 = open('weather_output.pkl', 'rb')\n",
    "weather_output = pickle.load(file_weather2)\n",
    "count_po,count_po_total = 0,0\n",
    "count_ne,count_ne_total = 0,0\n",
    "for d in range(1,6):\n",
    "    for h in range(3,21):\n",
    "        for x in range(x_max):\n",
    "            for y in range(y_max):\n",
    "                if weather_input[str(d)][str(h)][x][y]-15>=0 and weather_output[str(d)][str(h)][x][y]-15>=0:\n",
    "                    count_ne += 1\n",
    "                if weather_input[str(d)][str(h)][x][y]-15<0 and weather_output[str(d)][str(h)][x][y]-15<0:\n",
    "                    count_po += 1\n",
    "                if weather_output[str(d)][str(h)][x][y]-15>=0:\n",
    "                    count_ne_total += 1\n",
    "                else:\n",
    "                    count_po_total += 1\n",
    "                \n",
    "print('正样本准确率',count_po/count_po_total)\n",
    "print('负样本准确率',count_ne/count_ne_total)"
   ]
  },
  {
   "cell_type": "code",
   "execution_count": 8,
   "metadata": {},
   "outputs": [],
   "source": [
    "###########################################\n",
    "# 探索绝对正确的点和绝对错误的点 #\n",
    "###########################################\n",
    "import pickle\n",
    "x_max = 548\n",
    "y_max = 421\n",
    "file_weather = open('weather_average_input.pkl', 'rb')\n",
    "weather_input = pickle.load(file_weather)\n",
    "file_weather2 = open('weather_output.pkl', 'rb')\n",
    "weather_output = pickle.load(file_weather2)\n",
    "positive = []\n",
    "negative = []\n",
    "for d in range(1,6):\n",
    "    for h in range(3,21):\n",
    "        for x in range(x_max):\n",
    "            for y in range(y_max):\n",
    "                # FP\n",
    "                if weather_output[str(d)][str(h)][x][y]-15>=0:\n",
    "                    negative.append(weather_input[str(d)][str(h)][x][y])\n",
    "                else:\n",
    "                    positive.append(weather_input[str(d)][str(h)][x][y])"
   ]
  },
  {
   "cell_type": "code",
   "execution_count": null,
   "metadata": {},
   "outputs": [],
   "source": []
  },
  {
   "cell_type": "code",
   "execution_count": 9,
   "metadata": {},
   "outputs": [
    {
     "data": {
      "image/png": "[encoded data removed]",
      "text/plain": [
       "<matplotlib.figure.Figure at 0x7fcbcc095860>"
      ]
     },
     "metadata": {},
     "output_type": "display_data"
    }
   ],
   "source": [
    "import numpy as np\n",
    "import matplotlib.pyplot as plt\n",
    "n, bins, patches = plt.hist(positive, 50, normed=1, facecolor='g', alpha=0.75)\n",
    "n, bins, patches = plt.hist(negative, 50, normed=1, facecolor='r', alpha=0.75)\n",
    "plt.show()"
   ]
  },
  {
   "cell_type": "code",
   "execution_count": 72,
   "metadata": {},
   "outputs": [
    {
     "name": "stdout",
     "output_type": "stream",
     "text": [
      "34.11\n",
      "2.265\n"
     ]
    }
   ],
   "source": [
    "print(max(negative))\n",
    "print(min(positive))"
   ]
  },
  {
   "cell_type": "code",
   "execution_count": 78,
   "metadata": {},
   "outputs": [
    {
     "name": "stdout",
     "output_type": "stream",
     "text": [
      "1337\n",
      "5156997\n"
     ]
    }
   ],
   "source": [
    "positive = np.array(positive)\n",
    "print(len(positive[positive<5]))  \n",
    "print(len(positive))"
   ]
  },
  {
   "cell_type": "code",
   "execution_count": 82,
   "metadata": {},
   "outputs": [
    {
     "name": "stdout",
     "output_type": "stream",
     "text": [
      "339101\n",
      "15606723\n"
     ]
    }
   ],
   "source": [
    "negative = np.array(negative)\n",
    "print(len(negative[negative<2.5]))\n",
    "print(len(negative))"
   ]
  },
  {
   "cell_type": "code",
   "execution_count": 80,
   "metadata": {},
   "outputs": [
    {
     "ename": "AttributeError",
     "evalue": "'numpy.ndarray' object has no attribute 'concat'",
     "output_type": "error",
     "traceback": [
      "\u001b[0;31m---------------------------------------------------------------------------\u001b[0m",
      "\u001b[0;31mAttributeError\u001b[0m                            Traceback (most recent call last)",
      "\u001b[0;32m<ipython-input-80-ed307bcd3dd4>\u001b[0m in \u001b[0;36m<module>\u001b[0;34m()\u001b[0m\n\u001b[1;32m      1\u001b[0m \u001b[0;32mimport\u001b[0m \u001b[0mnumpy\u001b[0m \u001b[0;32mas\u001b[0m \u001b[0mnp\u001b[0m\u001b[0;34m\u001b[0m\u001b[0m\n\u001b[1;32m      2\u001b[0m \u001b[0;32mimport\u001b[0m \u001b[0mmatplotlib\u001b[0m\u001b[0;34m.\u001b[0m\u001b[0mpyplot\u001b[0m \u001b[0;32mas\u001b[0m \u001b[0mplt\u001b[0m\u001b[0;34m\u001b[0m\u001b[0m\n\u001b[0;32m----> 3\u001b[0;31m \u001b[0mn\u001b[0m\u001b[0;34m,\u001b[0m \u001b[0mbins\u001b[0m\u001b[0;34m,\u001b[0m \u001b[0mpatches\u001b[0m \u001b[0;34m=\u001b[0m \u001b[0mplt\u001b[0m\u001b[0;34m.\u001b[0m\u001b[0mhist\u001b[0m\u001b[0;34m(\u001b[0m\u001b[0mpositive\u001b[0m\u001b[0;34m.\u001b[0m\u001b[0mconcat\u001b[0m\u001b[0;34m(\u001b[0m\u001b[0mnegative\u001b[0m\u001b[0;34m)\u001b[0m\u001b[0;34m,\u001b[0m \u001b[0;36m50\u001b[0m\u001b[0;34m,\u001b[0m \u001b[0mnormed\u001b[0m\u001b[0;34m=\u001b[0m\u001b[0;36m1\u001b[0m\u001b[0;34m,\u001b[0m \u001b[0mfacecolor\u001b[0m\u001b[0;34m=\u001b[0m\u001b[0;34m'g'\u001b[0m\u001b[0;34m,\u001b[0m \u001b[0malpha\u001b[0m\u001b[0;34m=\u001b[0m\u001b[0;36m0.75\u001b[0m\u001b[0;34m)\u001b[0m\u001b[0;34m\u001b[0m\u001b[0m\n\u001b[0m\u001b[1;32m      4\u001b[0m \u001b[0;31m#n, bins, patches = plt.hist(negative, 50, normed=1, facecolor='r', alpha=0.75)\u001b[0m\u001b[0;34m\u001b[0m\u001b[0;34m\u001b[0m\u001b[0m\n\u001b[1;32m      5\u001b[0m \u001b[0mplt\u001b[0m\u001b[0;34m.\u001b[0m\u001b[0mshow\u001b[0m\u001b[0;34m(\u001b[0m\u001b[0;34m)\u001b[0m\u001b[0;34m\u001b[0m\u001b[0m\n",
      "\u001b[0;31mAttributeError\u001b[0m: 'numpy.ndarray' object has no attribute 'concat'"
     ]
    }
   ],
   "source": [
    "import numpy as np\n",
    "import matplotlib.pyplot as plt\n",
    "n, bins, patches = plt.hist(positive.concat(negative), 50, normed=1, facecolor='g', alpha=0.75)\n",
    "#n, bins, patches = plt.hist(negative, 50, normed=1, facecolor='r', alpha=0.75)\n",
    "plt.show()"
   ]
  },
  {
   "cell_type": "code",
   "execution_count": 12,
   "metadata": {},
   "outputs": [
    {
     "data": {
      "text/plain": [
       "<matplotlib.figure.Figure at 0x7fcb4b9f5400>"
      ]
     },
     "metadata": {},
     "output_type": "display_data"
    },
    {
     "data": {
      "image/png": "[encoded data removed]",
      "text/plain": [
       "<matplotlib.figure.Figure at 0x7fcb4b977908>"
      ]
     },
     "metadata": {},
     "output_type": "display_data"
    }
   ],
   "source": [
    "# 研究错分的点的分布\n",
    "import copy\n",
    "fig = plt.figure()\n",
    "data = copy.deepcopy(weather_input[str(1)]['15'])\n",
    "data[data<15] = 0\n",
    "data[data>=15] = 1\n",
    "im = plt.imshow(data)\n",
    "plt.colorbar(im, shrink=1) \n",
    "plt.show()\n",
    "\n",
    "#TODO:绘制天气变化图"
   ]
  },
  {
   "cell_type": "code",
   "execution_count": 10,
   "metadata": {},
   "outputs": [
    {
     "data": {
      "image/png": "[encoded data removed]",
      "text/plain": [
       "<matplotlib.figure.Figure at 0x7fcb6eb96a20>"
      ]
     },
     "metadata": {},
     "output_type": "display_data"
    }
   ],
   "source": [
    "# 研究错分的点的分布\n",
    "import copy\n",
    "fig = plt.figure()\n",
    "data = copy.deepcopy(weather_output[str(1)]['15'])\n",
    "data[data<15] = 0\n",
    "data[data>=15] = 1\n",
    "im = plt.imshow(data)\n",
    "plt.colorbar(im, shrink=1) \n",
    "plt.show()\n",
    "\n",
    "#TODO:绘制天气变化图"
   ]
  },
  {
   "cell_type": "code",
   "execution_count": 28,
   "metadata": {},
   "outputs": [
    {
     "data": {
      "image/png": "[encoded data removed]",
      "text/plain": [
       "<matplotlib.figure.Figure at 0x7f492874c470>"
      ]
     },
     "metadata": {},
     "output_type": "display_data"
    },
    {
     "name": "stdout",
     "output_type": "stream",
     "text": [
      "[[ 20.046875   19.78125    19.765625  ...,  19.0625     18.875      18.71875  ]\n",
      " [ 19.96875    20.03125    19.84375   ...,  18.71875    18.859375\n",
      "   18.703125 ]\n",
      " [ 19.78125    19.640625   19.421875  ...,  18.46875    18.53125    18.875    ]\n",
      " ..., \n",
      " [  9.078125    7.9296875   8.484375  ...,   8.5078125   8.078125\n",
      "    8.984375 ]\n",
      " [  9.6328125   9.265625    8.796875  ...,   8.203125    7.890625    8.53125  ]\n",
      " [  9.734375    9.46875     8.625     ...,   8.359375    8.34375     8.328125 ]]\n"
     ]
    }
   ],
   "source": [
    "# 观察输出的天气数据原始文件\n",
    "import pickle\n",
    "import copy\n",
    "import matplotlib.pyplot as plt\n",
    "file_weather2 = open('lay_3_input_weather.pkl', 'rb')\n",
    "#file_weather2 = open('lay_3_output.pkl', 'rb')\n",
    "weather_output = pickle.load(file_weather2)\n",
    "fig = plt.figure()\n",
    "data = weather_output['2']['9']\n",
    "im = plt.imshow(data)\n",
    "plt.colorbar(im, shrink=1) \n",
    "plt.show()\n",
    "print(data)"
   ]
  },
  {
   "cell_type": "code",
   "execution_count": 54,
   "metadata": {},
   "outputs": [
    {
     "data": {
      "image/png": "[encoded data removed]",
      "text/plain": [
       "<matplotlib.figure.Figure at 0x7f616722a358>"
      ]
     },
     "metadata": {},
     "output_type": "display_data"
    },
    {
     "name": "stdout",
     "output_type": "stream",
     "text": [
      "[[  2.13793592e-05   2.31005615e-05   7.72374096e-06 ...,   7.90735632e-02\n",
      "    1.28716320e-01   1.19585700e-01]\n",
      " [  4.77342401e-05   1.68514434e-05   1.05709960e-05 ...,   7.62718841e-02\n",
      "    8.50940868e-02   3.20697278e-02]\n",
      " [  2.03059008e-05   3.10649521e-05   7.56746385e-06 ...,   2.55419370e-02\n",
      "    4.29728329e-02   8.50151181e-02]\n",
      " ..., \n",
      " [  8.54002178e-01   7.77988613e-01   4.61002052e-01 ...,   9.99986649e-01\n",
      "    9.99976873e-01   9.99951482e-01]\n",
      " [  9.23869431e-01   7.73916066e-01   6.24490976e-01 ...,   9.99984980e-01\n",
      "    9.99976873e-01   9.99957204e-01]\n",
      " [  9.60496783e-01   8.15212131e-01   5.89742243e-01 ...,   9.99982476e-01\n",
      "    9.99981165e-01   9.99951124e-01]]\n"
     ]
    }
   ],
   "source": [
    "# 观察输出的天气数据原始文件\n",
    "import pickle\n",
    "import copy\n",
    "import matplotlib.pyplot as plt\n",
    "#file_weather2 = open('lay_3_input_weather.pkl', 'rb')\n",
    "file_weather2 = open('layer_3_output.pkl', 'rb')\n",
    "#file_weather2 = open('layer_3_output_gbm.pkl', 'rb')\n",
    "weather_output = pickle.load(file_weather2)\n",
    "fig = plt.figure()\n",
    "data = weather_output['3']['6']\n",
    "im = plt.imshow(data)\n",
    "plt.colorbar(im, shrink=1) \n",
    "plt.show()\n",
    "print(data)"
   ]
  },
  {
   "cell_type": "code",
   "execution_count": 62,
   "metadata": {},
   "outputs": [
    {
     "data": {
      "image/png": "[encoded data removed]",
      "text/plain": [
       "<matplotlib.figure.Figure at 0x7fb28ea11f28>"
      ]
     },
     "metadata": {},
     "output_type": "display_data"
    },
    {
     "data": {
      "image/png": "[encoded data removed]",
      "text/plain": [
       "<matplotlib.figure.Figure at 0x7fb28ee439e8>"
      ]
     },
     "metadata": {},
     "output_type": "display_data"
    },
    {
     "name": "stdout",
     "output_type": "stream",
     "text": [
      "[[  1.00000000e+00   1.00000000e+00   1.00000000e+00 ...,   9.99511719e-01\n",
      "    9.99511719e-01   9.99511719e-01]\n",
      " [  1.00000000e+00   1.00000000e+00   1.00000000e+00 ...,   9.99511719e-01\n",
      "    9.99511719e-01   9.99511719e-01]\n",
      " [  1.00000000e+00   1.00000000e+00   1.00000000e+00 ...,   9.99511719e-01\n",
      "    9.99511719e-01   9.99511719e-01]\n",
      " ..., \n",
      " [  1.82628632e-04   1.21712685e-04   1.57475471e-04 ...,   1.53183937e-05\n",
      "    1.63912773e-05   1.38878822e-05]\n",
      " [  2.20656395e-04   1.30176544e-04   1.39355659e-04 ...,   1.20997429e-05\n",
      "    1.77025795e-05   1.41263008e-05]\n",
      " [  3.62396240e-04   2.68220901e-04   2.28643417e-04 ...,   1.26361847e-05\n",
      "    1.25765800e-05   1.35898590e-05]]\n"
     ]
    }
   ],
   "source": [
    "# 观察输出的天气数据原始文件\n",
    "import pickle\n",
    "import copy\n",
    "import numpy as np\n",
    "import matplotlib.pyplot as plt\n",
    "#file_weather2 = open('lay_3_input_weather.pkl', 'rb')\n",
    "file_weather2 = open('layer_1_output_prob_v2.pkl', 'rb')\n",
    "#file_weather2 = open('layer_2_gbm_input.pkl', 'rb')\n",
    "weather_output = pickle.load(file_weather2)\n",
    "fig = plt.figure()\n",
    "day = 1\n",
    "h = 3\n",
    "data = weather_output[str(day)][str(h)].astype(np.float32)\n",
    "im = plt.imshow(data)\n",
    "plt.colorbar(im, shrink=1) \n",
    "plt.show()\n",
    "file_weather2 = open('layer_1_output_prob_final.pkl', 'rb')\n",
    "weather_output = pickle.load(file_weather2)\n",
    "fig = plt.figure()\n",
    "data = weather_output[str(day)][str(h)].astype(np.float32)\n",
    "#data[data>=15]=100\n",
    "im = plt.imshow(data)\n",
    "plt.colorbar(im, shrink=1) \n",
    "plt.show()\n",
    "print(data)\n"
   ]
  },
  {
   "cell_type": "code",
   "execution_count": 29,
   "metadata": {},
   "outputs": [
    {
     "name": "stdout",
     "output_type": "stream",
     "text": [
      "24.094\n"
     ]
    }
   ],
   "source": [
    "file_weather = open('weather_train_1_5.pkl', 'rb')\n",
    "weather_map_all = pickle.load(file_weather)\n",
    "print(weather_map_all['2'][day][str(h)][0,500,100])"
   ]
  },
  {
   "cell_type": "code",
   "execution_count": 3,
   "metadata": {},
   "outputs": [
    {
     "data": {
      "text/plain": [
       "9.0391"
      ]
     },
     "execution_count": 3,
     "metadata": {},
     "output_type": "execute_result"
    }
   ],
   "source": [
    "weather_output[day][str(h)][0,200,200]"
   ]
  },
  {
   "cell_type": "code",
   "execution_count": 4,
   "metadata": {},
   "outputs": [
    {
     "data": {
      "text/plain": [
       "<matplotlib.figure.Figure at 0x7fcbf50d6a90>"
      ]
     },
     "metadata": {},
     "output_type": "display_data"
    },
    {
     "data": {
      "image/png": "[encoded data removed]",
      "text/plain": [
       "<matplotlib.figure.Figure at 0x7fcbf5081ac8>"
      ]
     },
     "metadata": {},
     "output_type": "display_data"
    },
    {
     "name": "stdout",
     "output_type": "stream",
     "text": [
      "[[  9.966   9.973   9.951 ...,  13.46   13.42   13.34 ]\n",
      " [  9.944   9.915   9.949 ...,  13.3    13.16   13.11 ]\n",
      " [  9.961   9.973   9.969 ...,  12.89   12.81   12.85 ]\n",
      " ..., \n",
      " [ 18.68   18.6    18.48  ...,  14.01   14.08   14.12 ]\n",
      " [ 18.73   18.61   18.5   ...,  14.04   14.07   14.12 ]\n",
      " [ 18.73   18.63   18.52  ...,  14.02   14.05   14.15 ]]\n"
     ]
    }
   ],
   "source": [
    "# 观察输出的天气数据原始文件\n",
    "import pickle\n",
    "import copy\n",
    "import matplotlib.pyplot as plt\n",
    "file_weather2 = open('weather_average.pkl', 'rb')\n",
    "weather_output = pickle.load(file_weather2)\n",
    "fig = plt.figure()\n",
    "data = weather_output['6']['4']\n",
    "im = plt.imshow(data)\n",
    "plt.colorbar(im, shrink=1) \n",
    "plt.show()\n",
    "print(data)"
   ]
  },
  {
   "cell_type": "code",
   "execution_count": 5,
   "metadata": {},
   "outputs": [
    {
     "data": {
      "image/png": "[encoded data removed]",
      "text/plain": [
       "<matplotlib.figure.Figure at 0x7fcbf50a9240>"
      ]
     },
     "metadata": {},
     "output_type": "display_data"
    },
    {
     "name": "stdout",
     "output_type": "stream",
     "text": [
      "[[  1.00000000e+00   1.00000000e+00   1.00000000e+00 ...,   1.00000000e+00\n",
      "    1.00000000e+00   1.00000000e+00]\n",
      " [  1.00000000e+00   1.00000000e+00   1.00000000e+00 ...,   1.00000000e+00\n",
      "    1.00000000e+00   1.00000000e+00]\n",
      " [  1.00000000e+00   1.00000000e+00   1.00000000e+00 ...,   1.00000000e+00\n",
      "    1.00000000e+00   1.00000000e+00]\n",
      " ..., \n",
      " [  4.76837158e-07   1.78813934e-07   4.76837158e-07 ...,   1.00000000e+00\n",
      "    1.00000000e+00   1.00000000e+00]\n",
      " [  3.57627869e-07   3.57627869e-07   5.96046448e-08 ...,   1.00000000e+00\n",
      "    1.00000000e+00   1.00000000e+00]\n",
      " [  5.96046448e-08   1.19209290e-07   5.96046448e-08 ...,   1.00000000e+00\n",
      "    1.00000000e+00   1.00000000e+00]]\n"
     ]
    }
   ],
   "source": [
    "import pickle\n",
    "import copy\n",
    "import matplotlib.pyplot as plt\n",
    "file_weather2 = open('lay_3_output.pkl', 'rb')\n",
    "weather_output = pickle.load(file_weather2)\n",
    "fig = plt.figure()\n",
    "data = weather_output['1']['3']\n",
    "im = plt.imshow(data)\n",
    "plt.colorbar(im, shrink=1) \n",
    "plt.show()\n",
    "print(data)"
   ]
  },
  {
   "cell_type": "code",
   "execution_count": 7,
   "metadata": {},
   "outputs": [
    {
     "name": "stdout",
     "output_type": "stream",
     "text": [
      "65796\n"
     ]
    }
   ],
   "source": [
    "count = 0\n",
    "for i in range(548):\n",
    "    for j in range(421):\n",
    "        if data[i][j]>=15:\n",
    "            count+=1\n",
    "print(count)"
   ]
  },
  {
   "cell_type": "code",
   "execution_count": 10,
   "metadata": {},
   "outputs": [
    {
     "data": {
      "text/plain": [
       "17.3125"
      ]
     },
     "execution_count": 10,
     "metadata": {},
     "output_type": "execute_result"
    }
   ],
   "source": [
    "data[165][34]"
   ]
  },
  {
   "cell_type": "code",
   "execution_count": 5,
   "metadata": {},
   "outputs": [
    {
     "data": {
      "image/png": "[encoded data removed]",
      "text/plain": [
       "<matplotlib.figure.Figure at 0x7fa2157cc7b8>"
      ]
     },
     "metadata": {},
     "output_type": "display_data"
    }
   ],
   "source": [
    "# 研究天气随时间变化情况\n",
    "import matplotlib.pyplot as plt\n",
    "import pickle\n",
    "x_max = 548\n",
    "y_max = 421\n",
    "file_weather = open('weather_average_input.pkl', 'rb')\n",
    "weather_input = pickle.load(file_weather)\n",
    "file_weather2 = open('weather_output.pkl', 'rb')\n",
    "weather_output = pickle.load(file_weather2)\n",
    "ave = []\n",
    "real = []\n",
    "day = 3\n",
    "x = 13\n",
    "y = 200\n",
    "for h in range(3,21):\n",
    "    ave.append(weather_input[str(day)][str(h)][x][y])\n",
    "    real.append(weather_output[str(day)][str(h)][x][y])\n",
    "plt.plot(ave,color='r')\n",
    "plt.plot(real)\n",
    "plt.show()"
   ]
  },
  {
   "cell_type": "code",
   "execution_count": 44,
   "metadata": {},
   "outputs": [
    {
     "data": {
      "image/png": "[encoded data removed]",
      "text/plain": [
       "<matplotlib.figure.Figure at 0x7fcbf4f30978>"
      ]
     },
     "metadata": {},
     "output_type": "display_data"
    }
   ],
   "source": [
    "# 研究天气随位置变化情况\n",
    "import matplotlib.pyplot as plt\n",
    "import pickle\n",
    "x_max = 548\n",
    "y_max = 421\n",
    "file_weather = open('weather_average_input.pkl', 'rb')\n",
    "weather_input = pickle.load(file_weather)\n",
    "#file_weather2 = open('weather_output.pkl', 'rb')\n",
    "file_weather2 = open('lay_3_output.pkl', 'rb')\n",
    "\n",
    "weather_output = pickle.load(file_weather2)\n",
    "ave = []\n",
    "real = []\n",
    "day = 2\n",
    "h=4\n",
    "y = 300\n",
    "for x in range(0,500):\n",
    "    ave.append(weather_input[str(day)][str(h)][x][y])\n",
    "    real.append(weather_output[str(day)][str(h)][x][y]*15)\n",
    "plt.plot(ave,color='r')\n",
    "plt.plot(real)\n",
    "plt.show()"
   ]
  },
  {
   "cell_type": "code",
   "execution_count": 32,
   "metadata": {},
   "outputs": [],
   "source": [
    "###########################################\n",
    "# 开始研究输出结果 #\n",
    "###########################################\n",
    "def cal_ave_value(day,points,weather_map):\n",
    "    n = len(points)-1\n",
    "    prob = 1\n",
    "    for item in points:\n",
    "        prob = prob*weather_map[str(day-5)][str(item[2])][item[0]-1][item[1]-1]\n",
    "    ave_time = 1440+(2*n-1440)*prob\n",
    "    return ave_time"
   ]
  },
  {
   "cell_type": "code",
   "execution_count": 44,
   "metadata": {},
   "outputs": [],
   "source": [
    "import pandas as pd\n",
    "import pickle \n",
    "import numpy as np\n",
    "# 检查期望函数最小化的结果\n",
    "# 载入数据\n",
    "p_result = pd.read_csv('submit_file_1225.csv')\n",
    "p_result.columns = ['id','day','time','xid','yid']\n",
    "n_result = pd.read_csv('submit_file_0123.csv')\n",
    "n_result.columns = ['id','day','time','xid','yid']\n",
    "#file_weather = open('weather_online_output_1227_h_p.pkl', 'rb')\n",
    "file_weather = open('layer_3_output.pkl', 'rb')\n",
    "weather_map = pickle.load(file_weather)"
   ]
  },
  {
   "cell_type": "code",
   "execution_count": 45,
   "metadata": {},
   "outputs": [],
   "source": [
    "# 寻找两个结果中都包含的城市日期数据\n",
    "co_list = []\n",
    "for i in range(1,11):\n",
    "    for d in range(6,11):\n",
    "        if len(p_result[(p_result.id==i)&(p_result.day==d)])!= 0 and \\\n",
    "            len(n_result[(n_result.id==i)&(n_result.day==d)])!= 0:\n",
    "            co_list.append((i,d))"
   ]
  },
  {
   "cell_type": "code",
   "execution_count": 46,
   "metadata": {},
   "outputs": [],
   "source": [
    "ave_time = np.zeros((2,len(co_list)))      "
   ]
  },
  {
   "cell_type": "code",
   "execution_count": 47,
   "metadata": {},
   "outputs": [
    {
     "data": {
      "text/plain": [
       "7117"
      ]
     },
     "execution_count": 47,
     "metadata": {},
     "output_type": "execute_result"
    }
   ],
   "source": [
    "len(n_result)"
   ]
  },
  {
   "cell_type": "code",
   "execution_count": 48,
   "metadata": {},
   "outputs": [
    {
     "data": {
      "text/plain": [
       "27"
      ]
     },
     "execution_count": 48,
     "metadata": {},
     "output_type": "execute_result"
    }
   ],
   "source": [
    "len(co_list)"
   ]
  },
  {
   "cell_type": "code",
   "execution_count": 49,
   "metadata": {},
   "outputs": [
    {
     "name": "stderr",
     "output_type": "stream",
     "text": [
      "/usr/local/lib/python3.5/dist-packages/ipykernel_launcher.py:5: SettingWithCopyWarning: \n",
      "A value is trying to be set on a copy of a slice from a DataFrame.\n",
      "Try using .loc[row_indexer,col_indexer] = value instead\n",
      "\n",
      "See the caveats in the documentation: http://pandas.pydata.org/pandas-docs/stable/indexing.html#indexing-view-versus-copy\n",
      "  \"\"\"\n",
      "/usr/local/lib/python3.5/dist-packages/ipykernel_launcher.py:8: SettingWithCopyWarning: \n",
      "A value is trying to be set on a copy of a slice from a DataFrame.\n",
      "Try using .loc[row_indexer,col_indexer] = value instead\n",
      "\n",
      "See the caveats in the documentation: http://pandas.pydata.org/pandas-docs/stable/indexing.html#indexing-view-versus-copy\n",
      "  \n"
     ]
    }
   ],
   "source": [
    "ave_time = np.zeros((2,len(co_list)))\n",
    "i = 0\n",
    "for item in co_list:\n",
    "    temp_p = p_result[(p_result.id==item[0])&(p_result.day==item[1])]\n",
    "    temp_p['points'] = temp_p.apply(lambda x: (x.xid,x.yid,int(x.time[0:2])),axis = 1)\n",
    "    ave_time[0,i] = cal_ave_value(item[1],temp_p['points'].values,weather_map)\n",
    "    temp_n = n_result[(n_result.id==item[0])&(n_result.day==item[1])]\n",
    "    temp_n['points'] = temp_n.apply(lambda x: (x.xid,x.yid,int(x.time[0:2])),axis = 1)\n",
    "    ave_time[1,i] = cal_ave_value(item[1],temp_n['points'].values,weather_map)\n",
    "    i += 1"
   ]
  },
  {
   "cell_type": "code",
   "execution_count": 50,
   "metadata": {},
   "outputs": [
    {
     "data": {
      "text/plain": [
       "array([[ 1440.        ,   779.62651939,  1116.18265514,   211.60227114,\n",
       "          323.41061859,   205.56045838,   203.45397949,   802.24146193,\n",
       "         1438.89540457,  1340.00546657,  1241.05903438,  1440.        ,\n",
       "         1337.32647571,   693.65471582,  1440.        ,  1440.        ,\n",
       "         1439.99999228,   805.3898898 ,   825.86702844,   144.35392749,\n",
       "          192.00135867,   451.82786269,   139.87352859,   766.17468871,\n",
       "         1438.80380348,  1432.85144529,  1440.        ],\n",
       "       [ 1439.98237301,   472.31129108,   980.69725292,   208.6053892 ,\n",
       "          285.73506824,   203.36562056,   203.14686647,   673.56150694,\n",
       "          695.5194489 ,   732.2550226 ,  1069.18542946,  1061.41030011,\n",
       "         1043.22217672,   477.83126954,  1400.73388135,   775.18784605,\n",
       "         1170.1858241 ,   693.76605121,   719.69272686,   142.87608324,\n",
       "          229.05172564,   343.40322127,   135.14417837,   634.76677326,\n",
       "          673.09958273,  1369.91718217,   986.22436588]])"
      ]
     },
     "execution_count": 50,
     "metadata": {},
     "output_type": "execute_result"
    }
   ],
   "source": [
    "ave_time"
   ]
  },
  {
   "cell_type": "code",
   "execution_count": 51,
   "metadata": {},
   "outputs": [
    {
     "data": {
      "image/png": "[encoded data removed]",
      "text/plain": [
       "<matplotlib.figure.Figure at 0x7f492c33a080>"
      ]
     },
     "metadata": {},
     "output_type": "display_data"
    }
   ],
   "source": [
    "# 绘制所有节点上的\n",
    "import matplotlib.pyplot as plt\n",
    "plt.plot(ave_time[0,:],color = 'r')\n",
    "plt.plot(ave_time[1,:],color = 'b')\n",
    "plt.show()\n",
    "# 达到目的，已经找到期望目标损失最小路径"
   ]
  },
  {
   "cell_type": "code",
   "execution_count": 32,
   "metadata": {},
   "outputs": [
    {
     "data": {
      "text/plain": [
       "27"
      ]
     },
     "execution_count": 32,
     "metadata": {},
     "output_type": "execute_result"
    }
   ],
   "source": [
    "ave_time.shape[1]"
   ]
  },
  {
   "cell_type": "code",
   "execution_count": 33,
   "metadata": {},
   "outputs": [
    {
     "name": "stdout",
     "output_type": "stream",
     "text": [
      "21365.6168148\n"
     ]
    }
   ],
   "source": [
    "print(sum(ave_time[0,:]))"
   ]
  },
  {
   "cell_type": "code",
   "execution_count": 34,
   "metadata": {},
   "outputs": [
    {
     "name": "stdout",
     "output_type": "stream",
     "text": [
      "29\n",
      "27\n",
      "27\n"
     ]
    }
   ],
   "source": [
    "print(len(p_result.drop_duplicates(['id','day'])))\n",
    "print(len(n_result.drop_duplicates(['id','day'])))\n",
    "print(len(co_list))"
   ]
  },
  {
   "cell_type": "code",
   "execution_count": 59,
   "metadata": {
    "scrolled": true
   },
   "outputs": [
    {
     "name": "stderr",
     "output_type": "stream",
     "text": [
      "/usr/local/lib/python3.5/dist-packages/ipykernel_launcher.py:7: SettingWithCopyWarning: \n",
      "A value is trying to be set on a copy of a slice from a DataFrame.\n",
      "Try using .loc[row_indexer,col_indexer] = value instead\n",
      "\n",
      "See the caveats in the documentation: http://pandas.pydata.org/pandas-docs/stable/indexing.html#indexing-view-versus-copy\n",
      "  import sys\n",
      "/usr/local/lib/python3.5/dist-packages/ipykernel_launcher.py:10: SettingWithCopyWarning: \n",
      "A value is trying to be set on a copy of a slice from a DataFrame.\n",
      "Try using .loc[row_indexer,col_indexer] = value instead\n",
      "\n",
      "See the caveats in the documentation: http://pandas.pydata.org/pandas-docs/stable/indexing.html#indexing-view-versus-copy\n",
      "  # Remove the CWD from sys.path while we load stuff.\n"
     ]
    },
    {
     "data": {
      "image/png": "[encoded data removed]",
      "text/plain": [
       "<matplotlib.figure.Figure at 0x7f49287759b0>"
      ]
     },
     "metadata": {},
     "output_type": "display_data"
    }
   ],
   "source": [
    "# 双路径核验\n",
    "i = 26\n",
    "cityid = co_list[i][0]\n",
    "day = co_list[i][1]\n",
    "temp_p = p_result[(p_result.id==cityid)&(p_result.day==day)]\n",
    "temp_p.reset_index(inplace = True)\n",
    "temp_p['weather'] = temp_p.apply(lambda x: weather_map[str(day-5)][str(int(x.time[0:2]))][x.xid-1][x.yid-1],axis = 1)\n",
    "temp_n = n_result[(n_result.id==cityid)&(n_result.day==day)]\n",
    "temp_n.reset_index(inplace = True)\n",
    "temp_n['weather'] = temp_n.apply(lambda x: weather_map[str(day-5)][str(int(x.time[0:2]))][x.xid-1][x.yid-1],axis = 1)\n",
    "plt.plot(temp_p.index,temp_p['weather'],color = 'r')\n",
    "plt.plot(temp_n.index,temp_n['weather'],color = 'b')\n",
    "plt.show()"
   ]
  },
  {
   "cell_type": "code",
   "execution_count": 41,
   "metadata": {},
   "outputs": [
    {
     "name": "stderr",
     "output_type": "stream",
     "text": [
      "/usr/local/lib/python3.5/dist-packages/ipykernel_launcher.py:7: SettingWithCopyWarning: \n",
      "A value is trying to be set on a copy of a slice from a DataFrame.\n",
      "Try using .loc[row_indexer,col_indexer] = value instead\n",
      "\n",
      "See the caveats in the documentation: http://pandas.pydata.org/pandas-docs/stable/indexing.html#indexing-view-versus-copy\n",
      "  import sys\n",
      "/usr/local/lib/python3.5/dist-packages/ipykernel_launcher.py:10: SettingWithCopyWarning: \n",
      "A value is trying to be set on a copy of a slice from a DataFrame.\n",
      "Try using .loc[row_indexer,col_indexer] = value instead\n",
      "\n",
      "See the caveats in the documentation: http://pandas.pydata.org/pandas-docs/stable/indexing.html#indexing-view-versus-copy\n",
      "  # Remove the CWD from sys.path while we load stuff.\n"
     ]
    },
    {
     "data": {
      "image/png": "[encoded data removed]",
      "text/plain": [
       "<matplotlib.figure.Figure at 0x7fd0382ec6d8>"
      ]
     },
     "metadata": {},
     "output_type": "display_data"
    }
   ],
   "source": [
    "# 双路径核验\n",
    "i = 18\n",
    "cityid = co_list[i][0]\n",
    "day = co_list[i][1]\n",
    "temp_p = p_result[(p_result.id==cityid)&(p_result.day==day)]\n",
    "temp_p.reset_index(inplace = True)\n",
    "temp_p['weather'] = temp_p.apply(lambda x: weather_map[str(day-5)][str(int(x.time[0:2]))][x.xid-1][x.yid-1],axis = 1)\n",
    "temp_n = n_result[(n_result.id==cityid)&(n_result.day==day)]\n",
    "temp_n.reset_index(inplace = True)\n",
    "temp_n['weather'] = temp_n.apply(lambda x: weather_map[str(day-5)][str(int(x.time[0:2]))][x.xid-1][x.yid-1],axis = 1)\n",
    "plt.plot(temp_p.index,temp_p['weather'],color = 'r')\n",
    "plt.plot(temp_n.index,temp_n['weather'],color = 'b')\n",
    "plt.show()"
   ]
  },
  {
   "cell_type": "code",
   "execution_count": null,
   "metadata": {},
   "outputs": [],
   "source": []
  },
  {
   "cell_type": "code",
   "execution_count": 22,
   "metadata": {},
   "outputs": [
    {
     "data": {
      "text/html": [
       "<div>\n",
       "<style>\n",
       "    .dataframe thead tr:only-child th {\n",
       "        text-align: right;\n",
       "    }\n",
       "\n",
       "    .dataframe thead th {\n",
       "        text-align: left;\n",
       "    }\n",
       "\n",
       "    .dataframe tbody tr th {\n",
       "        vertical-align: top;\n",
       "    }\n",
       "</style>\n",
       "<table border=\"1\" class=\"dataframe\">\n",
       "  <thead>\n",
       "    <tr style=\"text-align: right;\">\n",
       "      <th></th>\n",
       "      <th>index</th>\n",
       "      <th>id</th>\n",
       "      <th>day</th>\n",
       "      <th>time</th>\n",
       "      <th>xid</th>\n",
       "      <th>yid</th>\n",
       "      <th>weather</th>\n",
       "    </tr>\n",
       "  </thead>\n",
       "  <tbody>\n",
       "    <tr>\n",
       "      <th>0</th>\n",
       "      <td>284</td>\n",
       "      <td>3</td>\n",
       "      <td>6</td>\n",
       "      <td>03:00</td>\n",
       "      <td>142</td>\n",
       "      <td>328</td>\n",
       "      <td>0.995092</td>\n",
       "    </tr>\n",
       "    <tr>\n",
       "      <th>1</th>\n",
       "      <td>285</td>\n",
       "      <td>3</td>\n",
       "      <td>6</td>\n",
       "      <td>03:02</td>\n",
       "      <td>141</td>\n",
       "      <td>328</td>\n",
       "      <td>0.995037</td>\n",
       "    </tr>\n",
       "    <tr>\n",
       "      <th>2</th>\n",
       "      <td>286</td>\n",
       "      <td>3</td>\n",
       "      <td>6</td>\n",
       "      <td>03:04</td>\n",
       "      <td>140</td>\n",
       "      <td>328</td>\n",
       "      <td>0.997282</td>\n",
       "    </tr>\n",
       "    <tr>\n",
       "      <th>3</th>\n",
       "      <td>287</td>\n",
       "      <td>3</td>\n",
       "      <td>6</td>\n",
       "      <td>03:06</td>\n",
       "      <td>140</td>\n",
       "      <td>327</td>\n",
       "      <td>0.997522</td>\n",
       "    </tr>\n",
       "    <tr>\n",
       "      <th>4</th>\n",
       "      <td>288</td>\n",
       "      <td>3</td>\n",
       "      <td>6</td>\n",
       "      <td>03:08</td>\n",
       "      <td>140</td>\n",
       "      <td>326</td>\n",
       "      <td>0.998117</td>\n",
       "    </tr>\n",
       "    <tr>\n",
       "      <th>5</th>\n",
       "      <td>289</td>\n",
       "      <td>3</td>\n",
       "      <td>6</td>\n",
       "      <td>03:10</td>\n",
       "      <td>140</td>\n",
       "      <td>325</td>\n",
       "      <td>0.998450</td>\n",
       "    </tr>\n",
       "    <tr>\n",
       "      <th>6</th>\n",
       "      <td>290</td>\n",
       "      <td>3</td>\n",
       "      <td>6</td>\n",
       "      <td>03:12</td>\n",
       "      <td>140</td>\n",
       "      <td>324</td>\n",
       "      <td>0.998619</td>\n",
       "    </tr>\n",
       "    <tr>\n",
       "      <th>7</th>\n",
       "      <td>291</td>\n",
       "      <td>3</td>\n",
       "      <td>6</td>\n",
       "      <td>03:14</td>\n",
       "      <td>140</td>\n",
       "      <td>323</td>\n",
       "      <td>0.998651</td>\n",
       "    </tr>\n",
       "    <tr>\n",
       "      <th>8</th>\n",
       "      <td>292</td>\n",
       "      <td>3</td>\n",
       "      <td>6</td>\n",
       "      <td>03:16</td>\n",
       "      <td>140</td>\n",
       "      <td>322</td>\n",
       "      <td>0.998620</td>\n",
       "    </tr>\n",
       "    <tr>\n",
       "      <th>9</th>\n",
       "      <td>293</td>\n",
       "      <td>3</td>\n",
       "      <td>6</td>\n",
       "      <td>03:18</td>\n",
       "      <td>140</td>\n",
       "      <td>321</td>\n",
       "      <td>0.998573</td>\n",
       "    </tr>\n",
       "    <tr>\n",
       "      <th>10</th>\n",
       "      <td>294</td>\n",
       "      <td>3</td>\n",
       "      <td>6</td>\n",
       "      <td>03:20</td>\n",
       "      <td>140</td>\n",
       "      <td>320</td>\n",
       "      <td>0.998606</td>\n",
       "    </tr>\n",
       "    <tr>\n",
       "      <th>11</th>\n",
       "      <td>295</td>\n",
       "      <td>3</td>\n",
       "      <td>6</td>\n",
       "      <td>03:22</td>\n",
       "      <td>140</td>\n",
       "      <td>319</td>\n",
       "      <td>0.998451</td>\n",
       "    </tr>\n",
       "    <tr>\n",
       "      <th>12</th>\n",
       "      <td>296</td>\n",
       "      <td>3</td>\n",
       "      <td>6</td>\n",
       "      <td>03:24</td>\n",
       "      <td>140</td>\n",
       "      <td>318</td>\n",
       "      <td>0.998267</td>\n",
       "    </tr>\n",
       "    <tr>\n",
       "      <th>13</th>\n",
       "      <td>297</td>\n",
       "      <td>3</td>\n",
       "      <td>6</td>\n",
       "      <td>03:26</td>\n",
       "      <td>140</td>\n",
       "      <td>317</td>\n",
       "      <td>0.998225</td>\n",
       "    </tr>\n",
       "    <tr>\n",
       "      <th>14</th>\n",
       "      <td>298</td>\n",
       "      <td>3</td>\n",
       "      <td>6</td>\n",
       "      <td>03:28</td>\n",
       "      <td>140</td>\n",
       "      <td>316</td>\n",
       "      <td>0.998208</td>\n",
       "    </tr>\n",
       "    <tr>\n",
       "      <th>15</th>\n",
       "      <td>299</td>\n",
       "      <td>3</td>\n",
       "      <td>6</td>\n",
       "      <td>03:30</td>\n",
       "      <td>140</td>\n",
       "      <td>315</td>\n",
       "      <td>0.997991</td>\n",
       "    </tr>\n",
       "    <tr>\n",
       "      <th>16</th>\n",
       "      <td>300</td>\n",
       "      <td>3</td>\n",
       "      <td>6</td>\n",
       "      <td>03:32</td>\n",
       "      <td>140</td>\n",
       "      <td>314</td>\n",
       "      <td>0.997660</td>\n",
       "    </tr>\n",
       "    <tr>\n",
       "      <th>17</th>\n",
       "      <td>301</td>\n",
       "      <td>3</td>\n",
       "      <td>6</td>\n",
       "      <td>03:34</td>\n",
       "      <td>140</td>\n",
       "      <td>313</td>\n",
       "      <td>0.996375</td>\n",
       "    </tr>\n",
       "    <tr>\n",
       "      <th>18</th>\n",
       "      <td>302</td>\n",
       "      <td>3</td>\n",
       "      <td>6</td>\n",
       "      <td>03:36</td>\n",
       "      <td>140</td>\n",
       "      <td>312</td>\n",
       "      <td>0.995958</td>\n",
       "    </tr>\n",
       "    <tr>\n",
       "      <th>19</th>\n",
       "      <td>303</td>\n",
       "      <td>3</td>\n",
       "      <td>6</td>\n",
       "      <td>03:38</td>\n",
       "      <td>140</td>\n",
       "      <td>311</td>\n",
       "      <td>0.995544</td>\n",
       "    </tr>\n",
       "    <tr>\n",
       "      <th>20</th>\n",
       "      <td>304</td>\n",
       "      <td>3</td>\n",
       "      <td>6</td>\n",
       "      <td>03:40</td>\n",
       "      <td>140</td>\n",
       "      <td>310</td>\n",
       "      <td>0.993574</td>\n",
       "    </tr>\n",
       "    <tr>\n",
       "      <th>21</th>\n",
       "      <td>305</td>\n",
       "      <td>3</td>\n",
       "      <td>6</td>\n",
       "      <td>03:42</td>\n",
       "      <td>140</td>\n",
       "      <td>309</td>\n",
       "      <td>0.993711</td>\n",
       "    </tr>\n",
       "    <tr>\n",
       "      <th>22</th>\n",
       "      <td>306</td>\n",
       "      <td>3</td>\n",
       "      <td>6</td>\n",
       "      <td>03:44</td>\n",
       "      <td>140</td>\n",
       "      <td>308</td>\n",
       "      <td>0.991490</td>\n",
       "    </tr>\n",
       "    <tr>\n",
       "      <th>23</th>\n",
       "      <td>307</td>\n",
       "      <td>3</td>\n",
       "      <td>6</td>\n",
       "      <td>03:46</td>\n",
       "      <td>140</td>\n",
       "      <td>307</td>\n",
       "      <td>0.991588</td>\n",
       "    </tr>\n",
       "    <tr>\n",
       "      <th>24</th>\n",
       "      <td>308</td>\n",
       "      <td>3</td>\n",
       "      <td>6</td>\n",
       "      <td>03:48</td>\n",
       "      <td>140</td>\n",
       "      <td>306</td>\n",
       "      <td>0.991766</td>\n",
       "    </tr>\n",
       "    <tr>\n",
       "      <th>25</th>\n",
       "      <td>309</td>\n",
       "      <td>3</td>\n",
       "      <td>6</td>\n",
       "      <td>03:50</td>\n",
       "      <td>140</td>\n",
       "      <td>305</td>\n",
       "      <td>0.991854</td>\n",
       "    </tr>\n",
       "    <tr>\n",
       "      <th>26</th>\n",
       "      <td>310</td>\n",
       "      <td>3</td>\n",
       "      <td>6</td>\n",
       "      <td>03:52</td>\n",
       "      <td>140</td>\n",
       "      <td>304</td>\n",
       "      <td>0.990067</td>\n",
       "    </tr>\n",
       "    <tr>\n",
       "      <th>27</th>\n",
       "      <td>311</td>\n",
       "      <td>3</td>\n",
       "      <td>6</td>\n",
       "      <td>03:54</td>\n",
       "      <td>140</td>\n",
       "      <td>303</td>\n",
       "      <td>0.981556</td>\n",
       "    </tr>\n",
       "    <tr>\n",
       "      <th>28</th>\n",
       "      <td>312</td>\n",
       "      <td>3</td>\n",
       "      <td>6</td>\n",
       "      <td>03:56</td>\n",
       "      <td>140</td>\n",
       "      <td>302</td>\n",
       "      <td>0.974656</td>\n",
       "    </tr>\n",
       "    <tr>\n",
       "      <th>29</th>\n",
       "      <td>313</td>\n",
       "      <td>3</td>\n",
       "      <td>6</td>\n",
       "      <td>03:58</td>\n",
       "      <td>140</td>\n",
       "      <td>301</td>\n",
       "      <td>0.969340</td>\n",
       "    </tr>\n",
       "    <tr>\n",
       "      <th>...</th>\n",
       "      <td>...</td>\n",
       "      <td>...</td>\n",
       "      <td>...</td>\n",
       "      <td>...</td>\n",
       "      <td>...</td>\n",
       "      <td>...</td>\n",
       "      <td>...</td>\n",
       "    </tr>\n",
       "    <tr>\n",
       "      <th>67</th>\n",
       "      <td>351</td>\n",
       "      <td>3</td>\n",
       "      <td>6</td>\n",
       "      <td>05:14</td>\n",
       "      <td>140</td>\n",
       "      <td>263</td>\n",
       "      <td>0.990896</td>\n",
       "    </tr>\n",
       "    <tr>\n",
       "      <th>68</th>\n",
       "      <td>352</td>\n",
       "      <td>3</td>\n",
       "      <td>6</td>\n",
       "      <td>05:16</td>\n",
       "      <td>140</td>\n",
       "      <td>262</td>\n",
       "      <td>0.959489</td>\n",
       "    </tr>\n",
       "    <tr>\n",
       "      <th>69</th>\n",
       "      <td>353</td>\n",
       "      <td>3</td>\n",
       "      <td>6</td>\n",
       "      <td>05:18</td>\n",
       "      <td>140</td>\n",
       "      <td>261</td>\n",
       "      <td>0.865225</td>\n",
       "    </tr>\n",
       "    <tr>\n",
       "      <th>70</th>\n",
       "      <td>354</td>\n",
       "      <td>3</td>\n",
       "      <td>6</td>\n",
       "      <td>05:20</td>\n",
       "      <td>140</td>\n",
       "      <td>260</td>\n",
       "      <td>0.884128</td>\n",
       "    </tr>\n",
       "    <tr>\n",
       "      <th>71</th>\n",
       "      <td>355</td>\n",
       "      <td>3</td>\n",
       "      <td>6</td>\n",
       "      <td>05:22</td>\n",
       "      <td>140</td>\n",
       "      <td>259</td>\n",
       "      <td>0.974620</td>\n",
       "    </tr>\n",
       "    <tr>\n",
       "      <th>72</th>\n",
       "      <td>356</td>\n",
       "      <td>3</td>\n",
       "      <td>6</td>\n",
       "      <td>05:24</td>\n",
       "      <td>140</td>\n",
       "      <td>258</td>\n",
       "      <td>0.992404</td>\n",
       "    </tr>\n",
       "    <tr>\n",
       "      <th>73</th>\n",
       "      <td>357</td>\n",
       "      <td>3</td>\n",
       "      <td>6</td>\n",
       "      <td>05:26</td>\n",
       "      <td>140</td>\n",
       "      <td>257</td>\n",
       "      <td>0.989781</td>\n",
       "    </tr>\n",
       "    <tr>\n",
       "      <th>74</th>\n",
       "      <td>358</td>\n",
       "      <td>3</td>\n",
       "      <td>6</td>\n",
       "      <td>05:28</td>\n",
       "      <td>140</td>\n",
       "      <td>256</td>\n",
       "      <td>0.977138</td>\n",
       "    </tr>\n",
       "    <tr>\n",
       "      <th>75</th>\n",
       "      <td>359</td>\n",
       "      <td>3</td>\n",
       "      <td>6</td>\n",
       "      <td>05:30</td>\n",
       "      <td>140</td>\n",
       "      <td>255</td>\n",
       "      <td>0.921956</td>\n",
       "    </tr>\n",
       "    <tr>\n",
       "      <th>76</th>\n",
       "      <td>360</td>\n",
       "      <td>3</td>\n",
       "      <td>6</td>\n",
       "      <td>05:32</td>\n",
       "      <td>140</td>\n",
       "      <td>254</td>\n",
       "      <td>0.914498</td>\n",
       "    </tr>\n",
       "    <tr>\n",
       "      <th>77</th>\n",
       "      <td>361</td>\n",
       "      <td>3</td>\n",
       "      <td>6</td>\n",
       "      <td>05:34</td>\n",
       "      <td>140</td>\n",
       "      <td>253</td>\n",
       "      <td>0.891977</td>\n",
       "    </tr>\n",
       "    <tr>\n",
       "      <th>78</th>\n",
       "      <td>362</td>\n",
       "      <td>3</td>\n",
       "      <td>6</td>\n",
       "      <td>05:36</td>\n",
       "      <td>140</td>\n",
       "      <td>252</td>\n",
       "      <td>0.871830</td>\n",
       "    </tr>\n",
       "    <tr>\n",
       "      <th>79</th>\n",
       "      <td>363</td>\n",
       "      <td>3</td>\n",
       "      <td>6</td>\n",
       "      <td>05:38</td>\n",
       "      <td>140</td>\n",
       "      <td>251</td>\n",
       "      <td>0.666474</td>\n",
       "    </tr>\n",
       "    <tr>\n",
       "      <th>80</th>\n",
       "      <td>364</td>\n",
       "      <td>3</td>\n",
       "      <td>6</td>\n",
       "      <td>05:40</td>\n",
       "      <td>140</td>\n",
       "      <td>250</td>\n",
       "      <td>0.382537</td>\n",
       "    </tr>\n",
       "    <tr>\n",
       "      <th>81</th>\n",
       "      <td>365</td>\n",
       "      <td>3</td>\n",
       "      <td>6</td>\n",
       "      <td>05:42</td>\n",
       "      <td>140</td>\n",
       "      <td>249</td>\n",
       "      <td>0.191784</td>\n",
       "    </tr>\n",
       "    <tr>\n",
       "      <th>82</th>\n",
       "      <td>366</td>\n",
       "      <td>3</td>\n",
       "      <td>6</td>\n",
       "      <td>05:44</td>\n",
       "      <td>140</td>\n",
       "      <td>248</td>\n",
       "      <td>0.233247</td>\n",
       "    </tr>\n",
       "    <tr>\n",
       "      <th>83</th>\n",
       "      <td>367</td>\n",
       "      <td>3</td>\n",
       "      <td>6</td>\n",
       "      <td>05:46</td>\n",
       "      <td>140</td>\n",
       "      <td>247</td>\n",
       "      <td>0.472964</td>\n",
       "    </tr>\n",
       "    <tr>\n",
       "      <th>84</th>\n",
       "      <td>368</td>\n",
       "      <td>3</td>\n",
       "      <td>6</td>\n",
       "      <td>05:48</td>\n",
       "      <td>140</td>\n",
       "      <td>246</td>\n",
       "      <td>0.892974</td>\n",
       "    </tr>\n",
       "    <tr>\n",
       "      <th>85</th>\n",
       "      <td>369</td>\n",
       "      <td>3</td>\n",
       "      <td>6</td>\n",
       "      <td>05:50</td>\n",
       "      <td>140</td>\n",
       "      <td>245</td>\n",
       "      <td>0.981198</td>\n",
       "    </tr>\n",
       "    <tr>\n",
       "      <th>86</th>\n",
       "      <td>370</td>\n",
       "      <td>3</td>\n",
       "      <td>6</td>\n",
       "      <td>05:52</td>\n",
       "      <td>140</td>\n",
       "      <td>244</td>\n",
       "      <td>0.992890</td>\n",
       "    </tr>\n",
       "    <tr>\n",
       "      <th>87</th>\n",
       "      <td>371</td>\n",
       "      <td>3</td>\n",
       "      <td>6</td>\n",
       "      <td>05:54</td>\n",
       "      <td>140</td>\n",
       "      <td>243</td>\n",
       "      <td>0.997305</td>\n",
       "    </tr>\n",
       "    <tr>\n",
       "      <th>88</th>\n",
       "      <td>372</td>\n",
       "      <td>3</td>\n",
       "      <td>6</td>\n",
       "      <td>05:56</td>\n",
       "      <td>140</td>\n",
       "      <td>242</td>\n",
       "      <td>0.998451</td>\n",
       "    </tr>\n",
       "    <tr>\n",
       "      <th>89</th>\n",
       "      <td>373</td>\n",
       "      <td>3</td>\n",
       "      <td>6</td>\n",
       "      <td>05:58</td>\n",
       "      <td>140</td>\n",
       "      <td>241</td>\n",
       "      <td>0.998550</td>\n",
       "    </tr>\n",
       "    <tr>\n",
       "      <th>90</th>\n",
       "      <td>374</td>\n",
       "      <td>3</td>\n",
       "      <td>6</td>\n",
       "      <td>06:00</td>\n",
       "      <td>140</td>\n",
       "      <td>240</td>\n",
       "      <td>0.941390</td>\n",
       "    </tr>\n",
       "    <tr>\n",
       "      <th>91</th>\n",
       "      <td>375</td>\n",
       "      <td>3</td>\n",
       "      <td>6</td>\n",
       "      <td>06:02</td>\n",
       "      <td>140</td>\n",
       "      <td>239</td>\n",
       "      <td>0.942108</td>\n",
       "    </tr>\n",
       "    <tr>\n",
       "      <th>92</th>\n",
       "      <td>376</td>\n",
       "      <td>3</td>\n",
       "      <td>6</td>\n",
       "      <td>06:04</td>\n",
       "      <td>140</td>\n",
       "      <td>238</td>\n",
       "      <td>0.927679</td>\n",
       "    </tr>\n",
       "    <tr>\n",
       "      <th>93</th>\n",
       "      <td>377</td>\n",
       "      <td>3</td>\n",
       "      <td>6</td>\n",
       "      <td>06:06</td>\n",
       "      <td>140</td>\n",
       "      <td>237</td>\n",
       "      <td>0.873266</td>\n",
       "    </tr>\n",
       "    <tr>\n",
       "      <th>94</th>\n",
       "      <td>378</td>\n",
       "      <td>3</td>\n",
       "      <td>6</td>\n",
       "      <td>06:08</td>\n",
       "      <td>140</td>\n",
       "      <td>236</td>\n",
       "      <td>0.782647</td>\n",
       "    </tr>\n",
       "    <tr>\n",
       "      <th>95</th>\n",
       "      <td>379</td>\n",
       "      <td>3</td>\n",
       "      <td>6</td>\n",
       "      <td>06:10</td>\n",
       "      <td>140</td>\n",
       "      <td>235</td>\n",
       "      <td>0.650008</td>\n",
       "    </tr>\n",
       "    <tr>\n",
       "      <th>96</th>\n",
       "      <td>380</td>\n",
       "      <td>3</td>\n",
       "      <td>6</td>\n",
       "      <td>06:12</td>\n",
       "      <td>140</td>\n",
       "      <td>234</td>\n",
       "      <td>0.402019</td>\n",
       "    </tr>\n",
       "  </tbody>\n",
       "</table>\n",
       "<p>97 rows × 7 columns</p>\n",
       "</div>"
      ],
      "text/plain": [
       "    index  id  day   time  xid  yid   weather\n",
       "0     284   3    6  03:00  142  328  0.995092\n",
       "1     285   3    6  03:02  141  328  0.995037\n",
       "2     286   3    6  03:04  140  328  0.997282\n",
       "3     287   3    6  03:06  140  327  0.997522\n",
       "4     288   3    6  03:08  140  326  0.998117\n",
       "5     289   3    6  03:10  140  325  0.998450\n",
       "6     290   3    6  03:12  140  324  0.998619\n",
       "7     291   3    6  03:14  140  323  0.998651\n",
       "8     292   3    6  03:16  140  322  0.998620\n",
       "9     293   3    6  03:18  140  321  0.998573\n",
       "10    294   3    6  03:20  140  320  0.998606\n",
       "11    295   3    6  03:22  140  319  0.998451\n",
       "12    296   3    6  03:24  140  318  0.998267\n",
       "13    297   3    6  03:26  140  317  0.998225\n",
       "14    298   3    6  03:28  140  316  0.998208\n",
       "15    299   3    6  03:30  140  315  0.997991\n",
       "16    300   3    6  03:32  140  314  0.997660\n",
       "17    301   3    6  03:34  140  313  0.996375\n",
       "18    302   3    6  03:36  140  312  0.995958\n",
       "19    303   3    6  03:38  140  311  0.995544\n",
       "20    304   3    6  03:40  140  310  0.993574\n",
       "21    305   3    6  03:42  140  309  0.993711\n",
       "22    306   3    6  03:44  140  308  0.991490\n",
       "23    307   3    6  03:46  140  307  0.991588\n",
       "24    308   3    6  03:48  140  306  0.991766\n",
       "25    309   3    6  03:50  140  305  0.991854\n",
       "26    310   3    6  03:52  140  304  0.990067\n",
       "27    311   3    6  03:54  140  303  0.981556\n",
       "28    312   3    6  03:56  140  302  0.974656\n",
       "29    313   3    6  03:58  140  301  0.969340\n",
       "..    ...  ..  ...    ...  ...  ...       ...\n",
       "67    351   3    6  05:14  140  263  0.990896\n",
       "68    352   3    6  05:16  140  262  0.959489\n",
       "69    353   3    6  05:18  140  261  0.865225\n",
       "70    354   3    6  05:20  140  260  0.884128\n",
       "71    355   3    6  05:22  140  259  0.974620\n",
       "72    356   3    6  05:24  140  258  0.992404\n",
       "73    357   3    6  05:26  140  257  0.989781\n",
       "74    358   3    6  05:28  140  256  0.977138\n",
       "75    359   3    6  05:30  140  255  0.921956\n",
       "76    360   3    6  05:32  140  254  0.914498\n",
       "77    361   3    6  05:34  140  253  0.891977\n",
       "78    362   3    6  05:36  140  252  0.871830\n",
       "79    363   3    6  05:38  140  251  0.666474\n",
       "80    364   3    6  05:40  140  250  0.382537\n",
       "81    365   3    6  05:42  140  249  0.191784\n",
       "82    366   3    6  05:44  140  248  0.233247\n",
       "83    367   3    6  05:46  140  247  0.472964\n",
       "84    368   3    6  05:48  140  246  0.892974\n",
       "85    369   3    6  05:50  140  245  0.981198\n",
       "86    370   3    6  05:52  140  244  0.992890\n",
       "87    371   3    6  05:54  140  243  0.997305\n",
       "88    372   3    6  05:56  140  242  0.998451\n",
       "89    373   3    6  05:58  140  241  0.998550\n",
       "90    374   3    6  06:00  140  240  0.941390\n",
       "91    375   3    6  06:02  140  239  0.942108\n",
       "92    376   3    6  06:04  140  238  0.927679\n",
       "93    377   3    6  06:06  140  237  0.873266\n",
       "94    378   3    6  06:08  140  236  0.782647\n",
       "95    379   3    6  06:10  140  235  0.650008\n",
       "96    380   3    6  06:12  140  234  0.402019\n",
       "\n",
       "[97 rows x 7 columns]"
      ]
     },
     "execution_count": 22,
     "metadata": {},
     "output_type": "execute_result"
    }
   ],
   "source": [
    "temp_n"
   ]
  },
  {
   "cell_type": "code",
   "execution_count": 23,
   "metadata": {},
   "outputs": [],
   "source": [
    "#file_weather = open('weather_online_output_1227_h_p.pkl', 'rb')\n",
    "import pandas as pd\n",
    "x = 140 - 1\n",
    "y = 275 - 1\n",
    "h = 5\n",
    "count = 548*421*(h-3)+x*421+y\n",
    "latest = pd.read_csv('layer3_X_front.csv',header=None)\n"
   ]
  },
  {
   "cell_type": "code",
   "execution_count": 3,
   "metadata": {},
   "outputs": [
    {
     "data": {
      "text/plain": [
       "148"
      ]
     },
     "execution_count": 3,
     "metadata": {},
     "output_type": "execute_result"
    }
   ],
   "source": [
    "len(latest.columns)"
   ]
  },
  {
   "cell_type": "code",
   "execution_count": 25,
   "metadata": {},
   "outputs": [
    {
     "name": "stdout",
     "output_type": "stream",
     "text": [
      "520183\n"
     ]
    }
   ],
   "source": [
    "i = 0\n",
    "for h in range(3,21):\n",
    "    for x in range(548):\n",
    "        for y in range(421):\n",
    "            if (h,x,y) == (5,139,248):\n",
    "                count = i\n",
    "                print(i)\n",
    "            i += 1"
   ]
  },
  {
   "cell_type": "code",
   "execution_count": 59,
   "metadata": {},
   "outputs": [],
   "source": [
    "data = latest.iloc[count,1:]"
   ]
  },
  {
   "cell_type": "code",
   "execution_count": null,
   "metadata": {},
   "outputs": [],
   "source": []
  },
  {
   "cell_type": "code",
   "execution_count": 63,
   "metadata": {},
   "outputs": [
    {
     "data": {
      "text/plain": [
       "16.100000000000001"
      ]
     },
     "execution_count": 63,
     "metadata": {},
     "output_type": "execute_result"
    }
   ],
   "source": [
    "list(data)[131]"
   ]
  },
  {
   "cell_type": "code",
   "execution_count": 29,
   "metadata": {},
   "outputs": [
    {
     "name": "stderr",
     "output_type": "stream",
     "text": [
      "/usr/local/lib/python3.5/dist-packages/sklearn/cross_validation.py:41: DeprecationWarning: This module was deprecated in version 0.18 in favor of the model_selection module into which all the refactored classes and functions are moved. Also note that the interface of the new CV iterators are different from that of this module. This module will be removed in 0.20.\n",
      "  \"This module will be removed in 0.20.\", DeprecationWarning)\n"
     ]
    }
   ],
   "source": [
    "import xgboost as xgb\n",
    "model_2 = xgb.Booster({'nthread':7}) #init model\n",
    "#model_2.load_model('layer_2_model-2.model')\n",
    "model_2.load_model('model_1_0.model')\n",
    "y_front = model_2.predict(xgb.DMatrix(data))"
   ]
  },
  {
   "cell_type": "code",
   "execution_count": 64,
   "metadata": {},
   "outputs": [],
   "source": [
    "model_2 = xgb.Booster({'nthread':7}) #init model\n",
    "#model_2.load_model('layer_2_model-2.model')\n",
    "model_2.load_model('model_1_0.model')"
   ]
  },
  {
   "cell_type": "code",
   "execution_count": 65,
   "metadata": {},
   "outputs": [
    {
     "data": {
      "text/plain": [
       "[('f38', 315790),\n",
       " ('f24', 331168),\n",
       " ('f10', 390485),\n",
       " ('f40', 502959),\n",
       " ('f41', 505088),\n",
       " ('f26', 530359),\n",
       " ('f27', 555311),\n",
       " ('f12', 583842),\n",
       " ('f13', 636823),\n",
       " ('f42', 768276),\n",
       " ('f37', 806133),\n",
       " ('f36', 829103),\n",
       " ('f35', 851976),\n",
       " ('f33', 860650),\n",
       " ('f34', 868335),\n",
       " ('f31', 876166),\n",
       " ('f29', 883443),\n",
       " ('f32', 885968),\n",
       " ('f30', 900824),\n",
       " ('f28', 901823),\n",
       " ('f23', 920313),\n",
       " ('f22', 926233),\n",
       " ('f21', 947318),\n",
       " ('f19', 971240),\n",
       " ('f20', 978428),\n",
       " ('f17', 1009075),\n",
       " ('f18', 1016608),\n",
       " ('f15', 1054704),\n",
       " ('f16', 1067164),\n",
       " ('f14', 1141769),\n",
       " ('f9', 1232781),\n",
       " ('f8', 1270848),\n",
       " ('f7', 1328024),\n",
       " ('f6', 1427974),\n",
       " ('f39', 1515428),\n",
       " ('f5', 1520051),\n",
       " ('f25', 1659554),\n",
       " ('f4', 1693190),\n",
       " ('f3', 1917707),\n",
       " ('f11', 2050257),\n",
       " ('f2', 2349550),\n",
       " ('f1', 2900764),\n",
       " ('f0', 5298893)]"
      ]
     },
     "execution_count": 65,
     "metadata": {},
     "output_type": "execute_result"
    }
   ],
   "source": [
    "sorted(model_2.get_score().items(),key=lambda x:x[1])"
   ]
  },
  {
   "cell_type": "code",
   "execution_count": 67,
   "metadata": {},
   "outputs": [
    {
     "data": {
      "text/plain": [
       "[('f142', 3403),\n",
       " ('f11', 4481),\n",
       " ('f17', 5308),\n",
       " ('f5', 5387),\n",
       " ('f9', 5837),\n",
       " ('f3', 6023),\n",
       " ('f139', 6369),\n",
       " ('f15', 6474),\n",
       " ('f144', 6887),\n",
       " ('f6', 7014),\n",
       " ('f146', 7537),\n",
       " ('f143', 8807),\n",
       " ('f23', 15270),\n",
       " ('f29', 15808),\n",
       " ('f12', 16115),\n",
       " ('f145', 16609),\n",
       " ('f30', 17315),\n",
       " ('f147', 18165),\n",
       " ('f48', 18173),\n",
       " ('f18', 18399),\n",
       " ('f35', 18549),\n",
       " ('f36', 19637),\n",
       " ('f54', 20236),\n",
       " ('f24', 21182),\n",
       " ('f10', 23169),\n",
       " ('f66', 23489),\n",
       " ('f130', 23813),\n",
       " ('f8', 24011),\n",
       " ('f83', 24117),\n",
       " ('f41', 24512),\n",
       " ('f72', 24729),\n",
       " ('f27', 24939),\n",
       " ('f16', 25126),\n",
       " ('f44', 25913),\n",
       " ('f47', 25945),\n",
       " ('f33', 26575),\n",
       " ('f42', 26595),\n",
       " ('f26', 27007),\n",
       " ('f14', 27283),\n",
       " ('f50', 27446),\n",
       " ('f116', 27935),\n",
       " ('f13', 29143),\n",
       " ('f32', 29402),\n",
       " ('f62', 29525),\n",
       " ('f53', 29775),\n",
       " ('f89', 29994),\n",
       " ('f4', 30109),\n",
       " ('f68', 30548),\n",
       " ('f21', 30632),\n",
       " ('f2', 31599),\n",
       " ('f31', 32157),\n",
       " ('f28', 32358),\n",
       " ('f49', 32377),\n",
       " ('f7', 32457),\n",
       " ('f19', 33287),\n",
       " ('f34', 34344),\n",
       " ('f60', 34359),\n",
       " ('f55', 34687),\n",
       " ('f46', 35719),\n",
       " ('f67', 36386),\n",
       " ('f37', 36517),\n",
       " ('f65', 36976),\n",
       " ('f52', 37179),\n",
       " ('f73', 38477),\n",
       " ('f59', 38624),\n",
       " ('f45', 39056),\n",
       " ('f77', 40276),\n",
       " ('f138', 41513),\n",
       " ('f51', 42483),\n",
       " ('f71', 42546),\n",
       " ('f64', 42821),\n",
       " ('f132', 42949),\n",
       " ('f84', 43210),\n",
       " ('f39', 44492),\n",
       " ('f133', 44549),\n",
       " ('f80', 44918),\n",
       " ('f70', 44986),\n",
       " ('f90', 45285),\n",
       " ('f141', 45297),\n",
       " ('f140', 45418),\n",
       " ('f118', 46417),\n",
       " ('f86', 46574),\n",
       " ('f119', 49539),\n",
       " ('f56', 49695),\n",
       " ('f85', 50898),\n",
       " ('f134', 51152),\n",
       " ('f40', 52038),\n",
       " ('f38', 52584),\n",
       " ('f91', 53399),\n",
       " ('f63', 55972),\n",
       " ('f135', 57008),\n",
       " ('f22', 57113),\n",
       " ('f136', 57294),\n",
       " ('f74', 58042),\n",
       " ('f78', 58287),\n",
       " ('f125', 59125),\n",
       " ('f58', 59277),\n",
       " ('f121', 59459),\n",
       " ('f127', 59919),\n",
       " ('f123', 60114),\n",
       " ('f69', 60203),\n",
       " ('f129', 60228),\n",
       " ('f120', 60296),\n",
       " ('f102', 60299),\n",
       " ('f128', 60310),\n",
       " ('f122', 60411),\n",
       " ('f126', 60424),\n",
       " ('f104', 60598),\n",
       " ('f20', 60891),\n",
       " ('f124', 61276),\n",
       " ('f43', 62374),\n",
       " ('f105', 62620),\n",
       " ('f109', 64404),\n",
       " ('f106', 64449),\n",
       " ('f25', 64910),\n",
       " ('f107', 65142),\n",
       " ('f111', 65197),\n",
       " ('f113', 65354),\n",
       " ('f82', 65395),\n",
       " ('f61', 65752),\n",
       " ('f112', 66009),\n",
       " ('f114', 66174),\n",
       " ('f115', 66238),\n",
       " ('f108', 66254),\n",
       " ('f110', 67253),\n",
       " ('f57', 67611),\n",
       " ('f88', 67932),\n",
       " ('f79', 77260),\n",
       " ('f93', 80280),\n",
       " ('f81', 80416),\n",
       " ('f100', 80684),\n",
       " ('f95', 81749),\n",
       " ('f76', 81920),\n",
       " ('f97', 82257),\n",
       " ('f94', 83111),\n",
       " ('f101', 83656),\n",
       " ('f96', 83875),\n",
       " ('f98', 84180),\n",
       " ('f99', 84281),\n",
       " ('f92', 84518),\n",
       " ('f87', 86742),\n",
       " ('f103', 87263),\n",
       " ('f117', 89714),\n",
       " ('f131', 93571),\n",
       " ('f75', 98550)]"
      ]
     },
     "execution_count": 67,
     "metadata": {},
     "output_type": "execute_result"
    }
   ],
   "source": [
    "model_2 = xgb.Booster({'nthread':7}) #init model\n",
    "#model_2.load_model('layer_2_model-2.model')\n",
    "model_2.load_model('layer_2_model-1.model')\n",
    "sorted(model_2.get_score().items(),key=lambda x:x[1])"
   ]
  },
  {
   "cell_type": "code",
   "execution_count": 43,
   "metadata": {},
   "outputs": [
    {
     "data": {
      "text/plain": [
       "0.06573486328125"
      ]
     },
     "execution_count": 43,
     "metadata": {},
     "output_type": "execute_result"
    }
   ],
   "source": [
    "weather_map['1']['5'][139][274]"
   ]
  },
  {
   "cell_type": "code",
   "execution_count": 44,
   "metadata": {},
   "outputs": [
    {
     "data": {
      "text/plain": [
       "0.401123046875"
      ]
     },
     "execution_count": 44,
     "metadata": {},
     "output_type": "execute_result"
    }
   ],
   "source": [
    "weather_map['1']['3'][0][0]"
   ]
  },
  {
   "cell_type": "code",
   "execution_count": 45,
   "metadata": {},
   "outputs": [
    {
     "data": {
      "text/plain": [
       "array([ 0.99881929], dtype=float32)"
      ]
     },
     "execution_count": 45,
     "metadata": {},
     "output_type": "execute_result"
    }
   ],
   "source": [
    "model_2.predict(xgb.DMatrix(latest.iloc[0,:]))"
   ]
  },
  {
   "cell_type": "code",
   "execution_count": null,
   "metadata": {},
   "outputs": [],
   "source": [
    "latest.iloc[0,:]"
   ]
  },
  {
   "cell_type": "code",
   "execution_count": null,
   "metadata": {},
   "outputs": [],
   "source": []
  }
 ],
 "metadata": {
  "kernelspec": {
   "display_name": "Python 3",
   "language": "python",
   "name": "python3"
  },
  "language_info": {
   "codemirror_mode": {
    "name": "ipython",
    "version": 3
   },
   "file_extension": ".py",
   "mimetype": "text/x-python",
   "name": "python",
   "nbconvert_exporter": "python",
   "pygments_lexer": "ipython3",
   "version": "3.5.2"
  }
 },
 "nbformat": 4,
 "nbformat_minor": 2
}
